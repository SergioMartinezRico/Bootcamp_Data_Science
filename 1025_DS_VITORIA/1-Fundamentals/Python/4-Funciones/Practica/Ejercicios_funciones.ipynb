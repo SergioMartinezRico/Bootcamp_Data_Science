{
  "cells": [
    {
      "cell_type": "markdown",
      "metadata": {
        "id": "AyOlWS2nRWxH"
      },
      "source": [
        "## PRACTICA OBLIGATORIA: COLECCIONES Y FUNCIONES"
      ]
    },
    {
      "cell_type": "markdown",
      "metadata": {
        "id": "6UOgb0KVRWxH"
      },
      "source": [
        "* La práctica obligatoria de esta unidad consiste varios ejercicios de programación libre a completar sobre Colecciones y Funciones. Descarga este notebook en tu ordenador y trabaja en local.  \n",
        "* Recuerda que debes subirla a tu repositorio personal antes de la sesión en vivo para que puntúe adecuadamente y puedas participar en dicha sesión.  \n",
        "* Recuerda también que no es necesario que esté perfecta, sólo es necesario que se vea el esfuerzo.\n",
        "* Esta práctica se resolverá en la sesión en vivo correspondiente y la solución se publicará en el repo del curso."
      ]
    },
    {
      "cell_type": "markdown",
      "metadata": {
        "id": "j3yu-tEjRWxH"
      },
      "source": [
        "### Contenidos"
      ]
    },
    {
      "cell_type": "markdown",
      "metadata": {
        "id": "kO-fLH39RWxH"
      },
      "source": [
        "## Ejercicio 1\n",
        "Eleva todos los elementos de la lista al cuadrado\n",
        "> ```ejer_2 = [1,2,3,4,5]```"
      ]
    },
    {
      "cell_type": "code",
      "execution_count": null,
      "metadata": {
        "id": "ks5l3yi7RWxH"
      },
      "outputs": [
        {
          "name": "stdout",
          "output_type": "stream",
          "text": [
            "[1, 4, 27, 256, 3125]\n"
          ]
        }
      ],
      "source": [
        "#solucion sin funcion\n",
        "ejer_2 = [1,2,3,4,5] \n",
        "sol = [i**i for i in ejer_2]\n",
        "print (sol)"
      ]
    },
    {
      "cell_type": "code",
      "execution_count": 6,
      "metadata": {},
      "outputs": [],
      "source": [
        "def elevar_cuadrado(lista:list):\n",
        "  \"\"\"\n",
        "  funcion que eleva al cuadrado todos los valores de una lista\n",
        "  \"\"\"\n",
        "  sol = [i**i for i in lista]\n",
        "  return sol"
      ]
    },
    {
      "cell_type": "code",
      "execution_count": 7,
      "metadata": {},
      "outputs": [
        {
          "name": "stdout",
          "output_type": "stream",
          "text": [
            "[1, 4, 27, 256, 3125]\n"
          ]
        }
      ],
      "source": [
        "ejer_2 = [1,2,3,4,5] \n",
        "sol_1 = elevar_cuadrado(ejer_2)\n",
        "print (sol_1)"
      ]
    },
    {
      "cell_type": "markdown",
      "metadata": {
        "id": "kI_Xr5oFRWxI"
      },
      "source": [
        "## Ejercicio 2\n",
        "Haz un programa que detecte todos los duplicados de un elemento en una lista:\n",
        "* Utiliza una variable duplicado para asignarle el valor del elemento del que queremos encontrar todos sus duplicados.\n",
        "* El programa debe devolver todos los índices de los elementos duplicados.\n",
        "* Aplícalo para encontrar los duplicados de \"un\", \"es\" y \"binario\" de:  \n",
        "\n",
        ">```ejer_3 = [\"Un\", \"árbol\", \"binario\", \"es\", \"una\", \"estructura\", \"de\", \"un\", \"tipo\", \"particular\", \"a\", \"veces\", \"no\", \"es\", \"ni\", \"binario\"]```\n",
        "\n"
      ]
    },
    {
      "cell_type": "code",
      "execution_count": 33,
      "metadata": {
        "id": "cLY9WB7YRWxI"
      },
      "outputs": [],
      "source": [
        "def encontrar_dup(duplicado, lista:list):\n",
        "  \"\"\"\n",
        "  funcion que encuentra los elementos duplicados dentro de una lista y devuleve la posicion en la lista\n",
        "  \"\"\"\n",
        "  duplicados = 0\n",
        "  lista_duplicados =[]\n",
        "  duplicado = duplicado.lower()\n",
        "  for i,palabra in enumerate(lista):\n",
        "    palabra = palabra.lower()\n",
        "    if palabra == duplicado:\n",
        "      duplicados = duplicados + 1\n",
        "      lista_duplicados.append(i)\n",
        "  if duplicados > 1:\n",
        "    return lista_duplicados,duplicados\n",
        "  else:\n",
        "    return []\n",
        " \n",
        "\n"
      ]
    },
    {
      "cell_type": "code",
      "execution_count": 37,
      "metadata": {},
      "outputs": [
        {
          "name": "stdout",
          "output_type": "stream",
          "text": [
            "([2, 15], 2)\n",
            "([0, 7], 2)\n",
            "([3, 13], 2)\n"
          ]
        }
      ],
      "source": [
        "ejer_3 = [\"Un\", \"árbol\", \"binario\", \"es\", \"una\", \"estructura\", \"de\", \"un\", \"tipo\", \"particular\", \"a\", \"veces\", \"no\", \"es\", \"ni\", \"binario\"]\n",
        "sol_1 = encontrar_dup(\"binario\", ejer_3)\n",
        "sol_2 = encontrar_dup(\"un\", ejer_3)\n",
        "sol_3 = encontrar_dup(\"es\", ejer_3)\n",
        "\n",
        "print (sol_1)\n",
        "print (sol_2)\n",
        "print (sol_3)"
      ]
    },
    {
      "cell_type": "code",
      "execution_count": 42,
      "metadata": {},
      "outputs": [],
      "source": [
        "#mismo ej pero con comprehension\n",
        "def encontrar_dupli(duplicado,lista:list):\n",
        "  duplicado = duplicado.lower()\n",
        "  lista_duplicados = [i for i,palabra in enumerate(lista) if palabra.lower() == duplicado]\n",
        "  if len(lista_duplicados) > 1:\n",
        "    return lista_duplicados, len(lista_duplicados)\n",
        "  else:\n",
        "    return [],0"
      ]
    },
    {
      "cell_type": "code",
      "execution_count": 43,
      "metadata": {},
      "outputs": [
        {
          "name": "stdout",
          "output_type": "stream",
          "text": [
            "([2, 15], 2)\n",
            "([0, 7], 2)\n",
            "([3, 13], 2)\n"
          ]
        }
      ],
      "source": [
        "ejer_3 = [\"Un\", \"árbol\", \"binario\", \"es\", \"una\", \"estructura\", \"de\", \"un\", \"tipo\", \"particular\", \"a\", \"veces\", \"no\", \"es\", \"ni\", \"binario\"]\n",
        "sol_1 = encontrar_dupli(\"binario\", ejer_3)\n",
        "sol_2 = encontrar_dupli(\"un\", ejer_3)\n",
        "sol_3 = encontrar_dupli(\"es\", ejer_3)\n",
        "\n",
        "print (sol_1)\n",
        "print (sol_2)\n",
        "print (sol_3)"
      ]
    },
    {
      "cell_type": "markdown",
      "metadata": {
        "id": "3WrBd5QaRWxI"
      },
      "source": [
        "## Ejercicio 3\n",
        "1. ¿Cuántas veces se repite el 3 en la siguiente tupla?\n",
        "2. Crea una tupla nueva con los elementos desde la posicion 5 a la 10.\n",
        "3. ¿Cuántos elementos tiene la tupla `ejer_3`?\n",
        "> ```ejer_9 = (3, 20, 3, 47, 19, 3, 29, 45, 67, 78, 90, 3, 3, 5, 2, 4, 7, 9, 4, 2, 4, 3, 3, 4, 6, 7)```"
      ]
    },
    {
      "cell_type": "code",
      "execution_count": 49,
      "metadata": {},
      "outputs": [],
      "source": [
        "def encontrar_dupli(duplicado,lista:list):\n",
        "  lista_duplicados = [i for i,numero in enumerate(lista) if numero == duplicado]\n",
        "  if len(lista_duplicados) > 1:\n",
        "    return  len(lista_duplicados)\n",
        "  else:\n",
        "    return [],0"
      ]
    },
    {
      "cell_type": "code",
      "execution_count": 51,
      "metadata": {
        "id": "bkv_R5LYRWxI"
      },
      "outputs": [
        {
          "name": "stdout",
          "output_type": "stream",
          "text": [
            "El número 3 se repite 7 veces\n"
          ]
        }
      ],
      "source": [
        "ejer_9 = (3, 20, 3, 47, 19, 3, 29, 45, 67, 78, 90, 3, 3, 5, 2, 4, 7, 9, 4, 2, 4, 3, 3, 4, 6, 7)\n",
        "numero = 3\n",
        "repeticiones = encontrar_dupli(numero,ejer_9)\n",
        "print (f\"El número {numero} se repite {repeticiones} veces\")"
      ]
    },
    {
      "cell_type": "code",
      "execution_count": 52,
      "metadata": {},
      "outputs": [
        {
          "name": "stdout",
          "output_type": "stream",
          "text": [
            "(3, 29, 45, 67, 78)\n"
          ]
        }
      ],
      "source": [
        "#punto 2\n",
        "tupla_nueva = ejer_9[5:10]\n",
        "print(tupla_nueva)"
      ]
    },
    {
      "cell_type": "code",
      "execution_count": 55,
      "metadata": {},
      "outputs": [
        {
          "name": "stdout",
          "output_type": "stream",
          "text": [
            "La tupla tiene 26 elementos\n"
          ]
        }
      ],
      "source": [
        "#punto 3\n",
        "longitud = len(ejer_9)\n",
        "print (f\"La tupla tiene {longitud} elementos\")"
      ]
    },
    {
      "cell_type": "markdown",
      "metadata": {
        "id": "6g8Y54AeRWxI"
      },
      "source": [
        "## Ejercicio 4\n",
        "Comprueba si el numero 60 esta en la tupla del ejercicio 3"
      ]
    },
    {
      "cell_type": "code",
      "execution_count": 57,
      "metadata": {
        "id": "F8VTEZonRWxI"
      },
      "outputs": [
        {
          "name": "stdout",
          "output_type": "stream",
          "text": [
            "No existe\n"
          ]
        }
      ],
      "source": [
        "existe = 60 in ejer_9\n",
        "if existe:\n",
        "  print(\"Existe\")\n",
        "else:\n",
        "  print(\"No existe\")"
      ]
    },
    {
      "cell_type": "markdown",
      "metadata": {
        "id": "y0fg-ZA6RWxI"
      },
      "source": [
        "## Ejercicio 5\n",
        "1. Convierte la tupla del ejercicio 3 en una lista\n",
        "2. Convierte la tupla del ejercicio 3 en un set\n",
        "3. Convierte la tupla del ejercicio 3 en un diccionario. Usa también los indices"
      ]
    },
    {
      "cell_type": "code",
      "execution_count": 58,
      "metadata": {
        "id": "_O5hXr01RWxI"
      },
      "outputs": [
        {
          "name": "stdout",
          "output_type": "stream",
          "text": [
            "(3, 20, 3, 47, 19, 3, 29, 45, 67, 78, 90, 3, 3, 5, 2, 4, 7, 9, 4, 2, 4, 3, 3, 4, 6, 7)\n",
            "{2, 3, 67, 5, 4, 7, 6, 9, 45, 78, 47, 19, 20, 90, 29}\n",
            "{0: 3, 1: 20, 2: 3, 3: 47, 4: 19, 5: 3, 6: 29, 7: 45, 8: 67, 9: 78, 10: 90, 11: 3, 12: 3, 13: 5, 14: 2, 15: 4, 16: 7, 17: 9, 18: 4, 19: 2, 20: 4, 21: 3, 22: 3, 23: 4, 24: 6, 25: 7}\n"
          ]
        }
      ],
      "source": [
        "tupla_5 = tuple(ejer_9)\n",
        "set_5 = set(ejer_9)\n",
        "dict_5 = dict(enumerate(ejer_9))\n",
        "print (tupla_5)\n",
        "print (set_5)\n",
        "print (dict_5)"
      ]
    },
    {
      "cell_type": "markdown",
      "metadata": {
        "id": "eOdWWbxvRWxJ"
      },
      "source": [
        "## Ejercicio 6\n",
        "Multiplica todos los valores del diccionario\n",
        "> ```ejer_6 = {1: 11, 2: 22, 3: 33, 4: 44, 5: 55}```"
      ]
    },
    {
      "cell_type": "code",
      "execution_count": 63,
      "metadata": {
        "id": "KcuByovKRWxJ"
      },
      "outputs": [
        {
          "name": "stdout",
          "output_type": "stream",
          "text": [
            "19326120\n"
          ]
        }
      ],
      "source": [
        "ejer_6 = {1: 11, 2: 22, 3: 33, 4: 44, 5: 55}\n",
        "resultado = 1\n",
        "for valor in ejer_6.values():\n",
        "  resultado *= valor\n",
        "print (resultado)\n",
        " "
      ]
    },
    {
      "cell_type": "markdown",
      "metadata": {
        "id": "W7TUSaKRRWxJ"
      },
      "source": [
        "## Ejercicio 7\n",
        "\n",
        "1. Crea un diccionario que describa un libro, con los siguientes campos o claves: \"titulo\",\"autor\",\"idioma original\",\"año de publicación\".\n",
        "2. Crea un a lista, llamada librería.\n",
        "3. Añade cuatro libros a tu elección a la librería."
      ]
    },
    {
      "cell_type": "code",
      "execution_count": 74,
      "metadata": {
        "id": "d-IMRvxRRWxJ"
      },
      "outputs": [],
      "source": [
        "libro_1= {\"titulo\" : \"Las pestes del alma\",\n",
        "          \"autor\" : \"Ana Isabel Fernandez\",\n",
        "           \"idioma original\" : \"castellano\",\n",
        "            \"año de publicacion\" : 2025}"
      ]
    },
    {
      "cell_type": "code",
      "execution_count": 75,
      "metadata": {},
      "outputs": [],
      "source": [
        "#punto2\n",
        "libreria = []\n"
      ]
    },
    {
      "cell_type": "code",
      "execution_count": 76,
      "metadata": {},
      "outputs": [
        {
          "name": "stdout",
          "output_type": "stream",
          "text": [
            "[{'titulo': 'Las pestes del alma', 'autor': 'Ana Isabel Fernandez', 'idioma original': 'castellano', 'año de publicacion': 2025}, {'titulo': 'Todo muere', 'autor': 'Juan Gomez Jurado', 'idioma original': 'castellano', 'año de publicacion': 2024}, {'titulo': 'El escalón 33', 'autor': 'Luis Zueco', 'idioma original': 'castellano', 'año de publicacion': 2024}, {'titulo': 'Los escorpiones', 'autor': 'Sara Barquinero', 'idioma original': 'castellano', 'año de publicacion': 2024}]\n"
          ]
        }
      ],
      "source": [
        "#punto 3\n",
        "libro_2= {\"titulo\" : \"Todo muere\",\n",
        "          \"autor\" : \"Juan Gomez Jurado\",\n",
        "           \"idioma original\" : \"castellano\",\n",
        "            \"año de publicacion\" : 2024}\n",
        "libro_3= {\"titulo\" : \"El escalón 33\",\n",
        "          \"autor\" : \"Luis Zueco\",\n",
        "           \"idioma original\" : \"castellano\",\n",
        "            \"año de publicacion\" : 2024}\n",
        "libro_4= {\"titulo\" : \"Los escorpiones\",\n",
        "          \"autor\" : \"Sara Barquinero\",\n",
        "           \"idioma original\" : \"castellano\",\n",
        "            \"año de publicacion\" : 2024}\n",
        "\n",
        "libreria.append(libro_1)\n",
        "libreria.append(libro_2)\n",
        "libreria.append(libro_3)\n",
        "libreria.append(libro_4)\n",
        "print (libreria)"
      ]
    },
    {
      "cell_type": "markdown",
      "metadata": {
        "id": "glMoedjYRWxJ"
      },
      "source": [
        "## Ejercicio 8\n",
        "Modifica los valores del idioma de todos los libros del ejercicio anterior para que sea \"esperanto\"\n"
      ]
    },
    {
      "cell_type": "code",
      "execution_count": 77,
      "metadata": {},
      "outputs": [
        {
          "name": "stdout",
          "output_type": "stream",
          "text": [
            "[{'titulo': 'Las pestes del alma', 'autor': 'Ana Isabel Fernandez', 'idioma original': 'esperanto', 'año de publicacion': 2025}, {'titulo': 'Todo muere', 'autor': 'Juan Gomez Jurado', 'idioma original': 'esperanto', 'año de publicacion': 2024}, {'titulo': 'El escalón 33', 'autor': 'Luis Zueco', 'idioma original': 'esperanto', 'año de publicacion': 2024}, {'titulo': 'Los escorpiones', 'autor': 'Sara Barquinero', 'idioma original': 'esperanto', 'año de publicacion': 2024}]\n"
          ]
        }
      ],
      "source": [
        "libro_1[\"idioma original\"]=\"esperanto\"\n",
        "libro_2[\"idioma original\"]=\"esperanto\"\n",
        "libro_3[\"idioma original\"]=\"esperanto\"\n",
        "libro_4[\"idioma original\"]=\"esperanto\"\n",
        "\n",
        "print (libreria)"
      ]
    },
    {
      "cell_type": "markdown",
      "metadata": {
        "id": "DRCJG04KRWxJ"
      },
      "source": [
        "## Ejercicio 9\n",
        "1. Escribe un programa que dada una variable titulo busque los libros que hay en la librería con ese título. Si no se encuentra debe devolver el mensaje `Ese no lo tengo, ¿mola?`\n",
        "2. Pruena que el programa con uno de tus libros y con otro que no contenga tu librería."
      ]
    },
    {
      "cell_type": "code",
      "execution_count": 80,
      "metadata": {
        "id": "eWHdJi9BRWxJ"
      },
      "outputs": [],
      "source": [
        "def busca_titulo(titulo:str, lista:list):\n",
        "  \"\"\"\n",
        "  funcion que busca el titulo en una lista de diccionarios\n",
        "  \"\"\"\n",
        "  titulo = titulo.lower()\n",
        "  for libro in lista:\n",
        "        if libro[\"titulo\"].lower() == titulo:\n",
        "            print(\"Me lo he leido\")\n",
        "            return True\n",
        "  print(\"Ese no lo tengo, ¿Mola?\")\n",
        "  return False\n"
      ]
    },
    {
      "cell_type": "code",
      "execution_count": 81,
      "metadata": {},
      "outputs": [
        {
          "name": "stdout",
          "output_type": "stream",
          "text": [
            "Me lo he leido\n",
            "True\n",
            "Ese no lo tengo, ¿Mola?\n",
            "False\n"
          ]
        }
      ],
      "source": [
        "existe_titulo = busca_titulo(\"las pestes del alma\", libreria)\n",
        "print (existe_titulo)\n",
        "existe_titulo2 = busca_titulo(\"las pestes del almacen\", libreria)\n",
        "print (existe_titulo2)"
      ]
    },
    {
      "cell_type": "markdown",
      "metadata": {
        "id": "17YOpYuFRWxJ"
      },
      "source": [
        "## Ejercicio 10\n",
        "Convierte el programa del ejercicio 2 en una función al que se le pase el valor a buscar como un argumento posicional"
      ]
    },
    {
      "cell_type": "code",
      "execution_count": null,
      "metadata": {
        "id": "xbj0LgvnRWxJ"
      },
      "outputs": [],
      "source": [
        "#mismo ej pero con comprehension\n",
        "def encontrar_dupli(duplicado,lista:list):\n",
        "  duplicado = duplicado.lower()\n",
        "  lista_duplicados = [i for i,palabra in enumerate(lista) if palabra.lower() == duplicado]\n",
        "  if len(lista_duplicados) > 1:\n",
        "    return lista_duplicados, len(lista_duplicados)\n",
        "  else:\n",
        "    return [],0"
      ]
    },
    {
      "cell_type": "markdown",
      "metadata": {
        "id": "xZ-sWJxPRWxJ"
      },
      "source": [
        "## Ejercicio 11\n",
        "Convierte el programa del ejercicio 9 en una función al que se le pasen como argumentos la librería, posicional, y el título, argumento keyword con valor \"ninguno\", por defecto."
      ]
    },
    {
      "cell_type": "code",
      "execution_count": 1,
      "metadata": {
        "id": "4-JrsMdNRWxK"
      },
      "outputs": [],
      "source": [
        "def busca_titulo(libreria, titulo=\"ninguno\"):\n",
        "  \"\"\"\n",
        "  funcion que busca el titulo en una lista de diccionarios\n",
        "  \"\"\"\n",
        "  titulo = titulo.lower()\n",
        "  for libro in libreria:\n",
        "        if libro[\"titulo\"].lower() == titulo:\n",
        "            print(\"Me lo he leido\")\n",
        "            return True\n",
        "  print(\"Ese no lo tengo, ¿Mola?\")\n",
        "  return False\n"
      ]
    },
    {
      "cell_type": "markdown",
      "metadata": {
        "id": "FtJir95QRWxK"
      },
      "source": [
        "## Ejercicio 12\n",
        "Solicitar al usuario que ingrese su dirección email. Imprimir un mensaje indicando si la dirección es válida o no, valiéndose de una función para decidirlo. Una dirección se considerará válida si contiene el símbolo \"@\"."
      ]
    },
    {
      "cell_type": "code",
      "execution_count": null,
      "metadata": {
        "id": "sk852IZ8RWxK"
      },
      "outputs": [],
      "source": [
        "def mail_valido(mail):\n",
        "  \"\"\"\n",
        "  funcion que comprueba la validez de un mail. Solo comprueba si lleva @\n",
        "  \"\"\"\n",
        "  if \"@\" in mail:\n",
        "    return True\n",
        "  return False\n"
      ]
    },
    {
      "cell_type": "code",
      "execution_count": 5,
      "metadata": {},
      "outputs": [
        {
          "name": "stdout",
          "output_type": "stream",
          "text": [
            "direccion incorrecta\n"
          ]
        }
      ],
      "source": [
        "mail = input (\"Introduce tu dirección mail:\")\n",
        "if mail_valido(mail):\n",
        "  print(\"Direccion correcta\")\n",
        "else:\n",
        "  print(\"direccion incorrecta\")\n",
        "  "
      ]
    },
    {
      "cell_type": "markdown",
      "metadata": {
        "id": "Kw1MWBwBRWxK"
      },
      "source": [
        "## Ejercicio 13\n",
        "Escribe una función que compruebe si un DNI es válido, devolviendo `True` en caso afirmativo.  \n",
        "En primer lugar, el DNI debe tener entre 7 y 8 dígitos numéricos.  \n",
        "Para saber si la letra del DNI es correcta puedes utilizar el siguiente fragmento de código:\n",
        ">```Python\n",
        ">DNI= 55555555\n",
        ">palabra='TRWAGMYFPDXBNJZSQVHLCKE'\n",
        ">print('La letra del DNI es: ', palabra[DNI%23])\n",
        ">````\n"
      ]
    },
    {
      "cell_type": "code",
      "execution_count": 14,
      "metadata": {
        "id": "F5Z9rSHqRWxK"
      },
      "outputs": [],
      "source": [
        "def comprueba_dni(dni, letra):\n",
        "  \"\"\"\n",
        "  funcion que comprueba segun numero y letra si el dni introducido es valido\n",
        "  \"\"\"\n",
        "  letra = letra.capitalize()\n",
        "  palabra='TRWAGMYFPDXBNJZSQVHLCKE'\n",
        "  letra_correcta = palabra[int(dni)%23]\n",
        "  if len(dni)>=7 and len(dni)<=8 and letra == letra_correcta:\n",
        "    return True\n",
        "  return False\n",
        "\n"
      ]
    },
    {
      "cell_type": "code",
      "execution_count": 15,
      "metadata": {},
      "outputs": [
        {
          "name": "stdout",
          "output_type": "stream",
          "text": [
            "True\n",
            "Su DNI es correcto\n"
          ]
        }
      ],
      "source": [
        "numero = input (\"Introduce el numero de tu DNI sin letra\")\n",
        "letra = input (\"Introduce la letra de tu DNI\")\n",
        "correcto = comprueba_dni(numero,letra)\n",
        "print (correcto)\n",
        "if correcto:\n",
        "  print (\"Su DNI es correcto\")\n",
        "else:\n",
        "  print(\"Hay un error en su DNI\")"
      ]
    }
  ],
  "metadata": {
    "colab": {
      "provenance": []
    },
    "kernelspec": {
      "display_name": "Python 3",
      "language": "python",
      "name": "python3"
    },
    "language_info": {
      "codemirror_mode": {
        "name": "ipython",
        "version": 3
      },
      "file_extension": ".py",
      "mimetype": "text/x-python",
      "name": "python",
      "nbconvert_exporter": "python",
      "pygments_lexer": "ipython3",
      "version": "3.12.10"
    },
    "orig_nbformat": 4
  },
  "nbformat": 4,
  "nbformat_minor": 0
}
