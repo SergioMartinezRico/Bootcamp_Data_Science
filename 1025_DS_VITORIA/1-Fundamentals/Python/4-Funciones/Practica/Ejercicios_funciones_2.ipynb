{
 "cells": [
  {
   "cell_type": "markdown",
   "metadata": {},
   "source": [
    "![imagen](./img/ejercicios.png)"
   ]
  },
  {
   "cell_type": "markdown",
   "metadata": {},
   "source": [
    "# Ejercicios funciones\n",
    "## Ejercicio 1\n",
    "Escribe una función que convierta números del 1 al 7 en nombres de los dias de la semana. La función constará de un único argumento numérico y una salida de tipo string"
   ]
  },
  {
   "cell_type": "code",
   "execution_count": 2,
   "metadata": {},
   "outputs": [],
   "source": [
    "def dia_semana(numero:int):\n",
    "     \"\"\"\n",
    "     funcion que pasa de un numero a un dia de la semana\n",
    "     \"\"\"\n",
    "#aprovechamos los diccionarios para darle a cada numero (clave) un valor\n",
    "     dias = {\n",
    "        1: \"Lunes\",\n",
    "        2: \"Martes\",\n",
    "        3: \"Miércoles\",\n",
    "        4: \"Jueves\",\n",
    "        5: \"Viernes\",\n",
    "        6: \"Sábado\",\n",
    "        7: \"Domingo\"\n",
    "    }\n",
    "     return dias.get(numero, \"error\")"
   ]
  },
  {
   "cell_type": "code",
   "execution_count": 3,
   "metadata": {},
   "outputs": [
    {
     "name": "stdout",
     "output_type": "stream",
     "text": [
      "Lunes\n",
      "error\n"
     ]
    }
   ],
   "source": [
    "dia_1 = dia_semana(1)\n",
    "dia_2 = dia_semana(8)\n",
    "print(dia_1)\n",
    "print(dia_2)\n",
    "\n"
   ]
  },
  {
   "cell_type": "code",
   "execution_count": null,
   "metadata": {},
   "outputs": [],
   "source": []
  },
  {
   "cell_type": "markdown",
   "metadata": {},
   "source": [
    "## Ejercicio 2\n",
    "En el ejercicio 8 de flujos de control, creábamos una pirámide invertida de números desde el 5. Crea una función que replique el comportamiento de la pirámide, y utiliza un único parámetro de entrada de la función para determinar el número de filas de la pirámide."
   ]
  },
  {
   "cell_type": "code",
   "execution_count": 5,
   "metadata": {},
   "outputs": [],
   "source": [
    "def piramide (filas):\n",
    "\n",
    "  for i in range (filas,0,-1):\n",
    "    for j in range (i,0,-1):\n",
    "      print (j, end = \" \")\n",
    "    print ()\n",
    "  "
   ]
  },
  {
   "cell_type": "code",
   "execution_count": 6,
   "metadata": {},
   "outputs": [
    {
     "name": "stdout",
     "output_type": "stream",
     "text": [
      "7 6 5 4 3 2 1 \n",
      "6 5 4 3 2 1 \n",
      "5 4 3 2 1 \n",
      "4 3 2 1 \n",
      "3 2 1 \n",
      "2 1 \n",
      "1 \n"
     ]
    }
   ],
   "source": [
    "piramide(7)"
   ]
  },
  {
   "cell_type": "markdown",
   "metadata": {},
   "source": [
    "## Ejercicio 3\n",
    "Escribe una función que compare dos números. La función tiene dos argumentos y hay tres salidas posibles: que sean iguales, que el primero sea  mayor que el segundo, o que el segundo sea mayor que el primero"
   ]
  },
  {
   "cell_type": "code",
   "execution_count": 11,
   "metadata": {},
   "outputs": [],
   "source": [
    "def compara_numeros(a,b):\n",
    "  \"\"\"\n",
    "  funcion que compara 2 numeros\n",
    "  \"\"\"\n",
    "  \n",
    "  if a > b:\n",
    "    return (f\"´{a} es mayor que {b}\")\n",
    "    \n",
    "  elif b > a:\n",
    "    return (f\"{b} es mayor que {a}\")\n",
    "    \n",
    "  else:\n",
    "    return (f\"{a} y {b} son iguales\")\n",
    "    "
   ]
  },
  {
   "cell_type": "code",
   "execution_count": 12,
   "metadata": {},
   "outputs": [
    {
     "name": "stdout",
     "output_type": "stream",
     "text": [
      "7 es mayor que 5\n"
     ]
    }
   ],
   "source": [
    "comparacion = compara_numeros(5,7)\n",
    "print(comparacion)"
   ]
  },
  {
   "attachments": {},
   "cell_type": "markdown",
   "metadata": {},
   "source": [
    "## Ejercicio 4\n",
    "Escribe una función que sea un contador de letras. En el primer argumento tienes que introducir un texto, y el segundo que sea una letra que contar. La función tiene que devolver un entero con el número de veces que aparece esa letra, tanto mayúscula, como minúscula"
   ]
  },
  {
   "cell_type": "code",
   "execution_count": 19,
   "metadata": {},
   "outputs": [],
   "source": [
    "def cuenta_letra(texto:str, letra:str):\n",
    "  \"\"\"\n",
    "  funcion que cuenta la cantidad de apariciones de una letra en un string\n",
    "  \"\"\"\n",
    "\n",
    "  mayusculas = 0\n",
    "  minusculas = 0\n",
    "  for i in texto:\n",
    "    if letra.capitalize() == i:\n",
    "      mayusculas = mayusculas + 1\n",
    "    if letra.lower() == i:\n",
    "      minusculas = minusculas + 1\n",
    "  return (f\"hay {mayusculas} mayusculas y {minusculas} minusculas\")"
   ]
  },
  {
   "cell_type": "code",
   "execution_count": 20,
   "metadata": {},
   "outputs": [
    {
     "name": "stdout",
     "output_type": "stream",
     "text": [
      "hay 3 mayusculas y 3 minusculas\n"
     ]
    }
   ],
   "source": [
    "texto = \"asdbbbajsasdhashBBB\"\n",
    "sol = cuenta_letra(texto,\"b\")\n",
    "print (sol)"
   ]
  },
  {
   "cell_type": "markdown",
   "metadata": {},
   "source": [
    "## Ejercicio 5\n",
    "Escribe una función que tenga un único argumento, un string. La salida de la función tiene que ser un diccionario con el conteo de todas las letras de ese string, siendo la clave la letra y el valor el conteo."
   ]
  },
  {
   "cell_type": "code",
   "execution_count": 25,
   "metadata": {},
   "outputs": [],
   "source": [
    "def crea_diccio(texto:str):\n",
    "\n",
    "  \"\"\"\n",
    "  funcion que de un string crea un diccionario clave(cada letra) y valor (el numero de apariciones de esa letra)\n",
    "\n",
    "  \"\"\"\n",
    "  texto = texto.lower()\n",
    "  dicc = {}\n",
    "  for letra in texto:\n",
    "    if letra in dicc:\n",
    "      dicc[letra] +=1\n",
    "    else:\n",
    "      dicc[letra] = 1\n",
    "  return dicc  #habia metido el return en el bucle y solo me salia el primer valor del diccionario\n",
    "  "
   ]
  },
  {
   "cell_type": "code",
   "execution_count": 27,
   "metadata": {},
   "outputs": [
    {
     "name": "stdout",
     "output_type": "stream",
     "text": [
      "{'a': 1, 's': 1, 'd': 6, 'h': 1, 'j': 1, 'k': 1, 'l': 1, 'ñ': 1}\n"
     ]
    }
   ],
   "source": [
    "sol = crea_diccio(\"asddddddhjklñ\")\n",
    "print (sol)"
   ]
  },
  {
   "cell_type": "markdown",
   "metadata": {},
   "source": [
    "## Ejercicio 6\n",
    "Escribir una función que añada o elimine elementos en una lista. La función necesita los siguientes argumentos:\n",
    "* lista: la lista donde se añadirán o eliminarán los elementos\n",
    "* comando: \"add\" o \"remove\"\n",
    "* elemento: Por defecto es None.\n",
    "\n",
    "Tendrá como salida la lista"
   ]
  },
  {
   "cell_type": "code",
   "execution_count": 34,
   "metadata": {},
   "outputs": [],
   "source": [
    "def nueva_lista(lista:list, comando:str, elemento=None):\n",
    "\n",
    "  \"\"\"\n",
    "  funcion que añade o elimina de una lista un elemento dado.\n",
    "  Los comandos validos son add o remove\n",
    "  hay que pasarlos como string\n",
    "  \"\"\"\n",
    "  if comando == \"add\":\n",
    "    lista.append(elemento)\n",
    "  elif comando == \"remove\":\n",
    "    try:\n",
    "      lista.remove(elemento)\n",
    "    except ValueError: \n",
    "      print (\"El elemento no esta en la lista\")\n",
    "  else:\n",
    "    print(\"Comando incorrecto\")\n",
    "  return lista"
   ]
  },
  {
   "cell_type": "code",
   "execution_count": 37,
   "metadata": {},
   "outputs": [
    {
     "name": "stdout",
     "output_type": "stream",
     "text": [
      "[1, 2, 3, 4, 5, 6, 7, 8]\n"
     ]
    }
   ],
   "source": [
    "lista_ej = [1,2,3,4,5,6,7]\n",
    "lista_2 = nueva_lista(lista_ej,\"add\",8)\n",
    "print (lista_2)\n"
   ]
  },
  {
   "cell_type": "markdown",
   "metadata": {},
   "source": [
    "## Ejercicio 7\n",
    "Crea una función que reciba un número arbitrario de palabras, y devuelva una frase completa, separando las palabras con espacios."
   ]
  },
  {
   "cell_type": "code",
   "execution_count": 38,
   "metadata": {},
   "outputs": [],
   "source": [
    "def frase(*palabras):\n",
    "  return \" \".join(palabras)"
   ]
  },
  {
   "cell_type": "code",
   "execution_count": null,
   "metadata": {},
   "outputs": [],
   "source": []
  },
  {
   "cell_type": "code",
   "execution_count": 39,
   "metadata": {},
   "outputs": [
    {
     "name": "stdout",
     "output_type": "stream",
     "text": [
      "hoy puede ser un gran dia\n"
     ]
    }
   ],
   "source": [
    "frase = frase(\"hoy\",\"puede\",\"ser\",\"un\",\"gran\",\"dia\")\n",
    "print(frase)"
   ]
  },
  {
   "cell_type": "code",
   "execution_count": null,
   "metadata": {},
   "outputs": [],
   "source": []
  },
  {
   "cell_type": "markdown",
   "metadata": {},
   "source": [
    "## Ejercicio 8\n",
    "Escribe un programa que obtenga el enésimo número de la [serie de Fibonacci](https://es.wikipedia.org/wiki/Sucesi%C3%B3n_de_Fibonacci). Tienes que crear una función recursiva con un único argumento.\n",
    "\n",
    "```Python\n",
    "fibonacci(2) = 1\n",
    "fibonacci(4) = 3\n",
    "fibonacci(5) = 5\n",
    "fibonacci(8) = 21\n",
    "```"
   ]
  },
  {
   "cell_type": "markdown",
   "metadata": {},
   "source": [
    "fibonacci(n) = fibonacci(n-1) + fibonacci(n-2)"
   ]
  },
  {
   "cell_type": "code",
   "execution_count": 40,
   "metadata": {},
   "outputs": [],
   "source": [
    "def fibonacci(n: int):\n",
    "    \"\"\"\n",
    "    funcion que devuelve el enésimo número de la serie de Fibonacci de forma recursiva.\n",
    "    \"\"\"\n",
    "    if n == 0:\n",
    "      return 0\n",
    "    elif n == 1:\n",
    "      return 1\n",
    "    elif n < 0:\n",
    "       return \"No existe\"\n",
    "    else:\n",
    "      return fibonacci(n-1) + fibonacci(n-2)\n",
    "  \n",
    "      "
   ]
  },
  {
   "cell_type": "code",
   "execution_count": 41,
   "metadata": {},
   "outputs": [
    {
     "name": "stdout",
     "output_type": "stream",
     "text": [
      "3\n"
     ]
    }
   ],
   "source": [
    "numero = fibonacci(4)\n",
    "print(numero)"
   ]
  },
  {
   "cell_type": "code",
   "execution_count": null,
   "metadata": {},
   "outputs": [],
   "source": []
  },
  {
   "attachments": {},
   "cell_type": "markdown",
   "metadata": {},
   "source": [
    "## Ejercicio 9\n",
    "Define en una única celda las siguientes funciones:\n",
    "* Función que calcule el área de un cuadrado\n",
    "* Función que calcule el área de un triángulo\n",
    "* Función que calcule el área de un círculo\n",
    "\n",
    "En otra celda, calcular el area de:\n",
    "* Dos círculos de radio 10 + un triángulo de base 3 y altura 7\n",
    "* Un cuadrado de lado = 10 + 3 círculos (uno de radio = 4 y los otros dos de radio = 6) + 5 triángulos de base = 2 + altura = 4"
   ]
  },
  {
   "cell_type": "code",
   "execution_count": 44,
   "metadata": {},
   "outputs": [],
   "source": [
    "import math as m\n",
    "def area_cuadrado(lado):\n",
    "  \"\"\"\n",
    "  funcion area cuadrado segun su lado\n",
    "  \"\"\"\n",
    "  area = lado * lado\n",
    "  return area\n",
    "def area_triangulo(base,altura):\n",
    "  \"\"\"\n",
    "  funcion area triangulo segun base y altura\n",
    "  \"\"\"\n",
    "  area = base * altura /2\n",
    "  return area\n",
    "def area_circ(radio):\n",
    "  \"\"\"\n",
    "  funcion area circulo segun radio\n",
    "  \"\"\"\n",
    "  area = m.pi * radio * radio\n",
    "  return area"
   ]
  },
  {
   "cell_type": "code",
   "execution_count": 45,
   "metadata": {},
   "outputs": [
    {
     "name": "stdout",
     "output_type": "stream",
     "text": [
      "638.8185307179587\n",
      "396.46015351590177\n"
     ]
    }
   ],
   "source": [
    "area_1 = 2*area_circ(10) + area_triangulo(3,7)\n",
    "print(area_1)\n",
    "area_2 = area_cuadrado(10) + area_circ(4) + 2*area_circ(6) + 5*area_triangulo(2,4)\n",
    "print(area_2)"
   ]
  },
  {
   "cell_type": "markdown",
   "metadata": {},
   "source": [
    "## Ejercicio 10\n",
    "\n",
    "Guarda las funciones de estos ejercicios en un fichero llamado `funciones.py` e importalas desde este jupyter notebook para probar que puedes hacer uso de ellas."
   ]
  },
  {
   "cell_type": "code",
   "execution_count": 1,
   "metadata": {},
   "outputs": [
    {
     "name": "stdout",
     "output_type": "stream",
     "text": [
      "5\n"
     ]
    }
   ],
   "source": [
    "import funciones as f\n",
    "sol = f.fibonacci(5)\n",
    "print(sol)"
   ]
  }
 ],
 "metadata": {
  "kernelspec": {
   "display_name": "Python 3",
   "language": "python",
   "name": "python3"
  },
  "language_info": {
   "codemirror_mode": {
    "name": "ipython",
    "version": 3
   },
   "file_extension": ".py",
   "mimetype": "text/x-python",
   "name": "python",
   "nbconvert_exporter": "python",
   "pygments_lexer": "ipython3",
   "version": "3.12.10"
  }
 },
 "nbformat": 4,
 "nbformat_minor": 4
}
