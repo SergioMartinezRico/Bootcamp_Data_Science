{
 "cells": [
  {
   "attachments": {},
   "cell_type": "markdown",
   "metadata": {},
   "source": [
    "## Juego del Ahorcado\n",
    "Desarrolla el juego del ahorcado en python. En cada turno irá mostrando por pantalla ```_ _ _ _ _``` las rayas bajas correspondientes al número de letras que tiene la palabra a adivinar. El usuario deberá insertar una letra y, si esa letra existe, se mostrará o mostrarán las letras acertadas ```S _ S _ _``` en sus posiciones correspondientes. \n",
    "\n",
    "Si falla, se mostrará el número de errores que lleva y, si lleva x errores, entonces se mostrará \"Fin del juego\"."
   ]
  },
  {
   "cell_type": "markdown",
   "metadata": {},
   "source": [
    "1. Inicializa el juego: declara una palabra a adivinar y muestra por pantalla la palabra oculta.\n"
   ]
  },
  {
   "cell_type": "markdown",
   "metadata": {},
   "source": [
    "\n",
    "```python\n",
    "_ _ _ _ _ _ _ _\n",
    "```"
   ]
  },
  {
   "cell_type": "markdown",
   "metadata": {},
   "source": [
    "2. Funcionamiento turnos: mediante un bucle genera el sistema de turnos donde el usuario introduce una letra y le va mostrando su progreso y sus vidas."
   ]
  },
  {
   "cell_type": "markdown",
   "metadata": {},
   "source": [
    "3. Desarrolla la finalización de la partida, tanto si gana como si pierde."
   ]
  },
  {
   "cell_type": "code",
   "execution_count": null,
   "metadata": {},
   "outputs": [],
   "source": []
  },
  {
   "cell_type": "markdown",
   "metadata": {},
   "source": [
    "4. Encapsula el juego en una función llamada ```jugar_ahorcado()``` con la palabra a adivinar y el número de vidas para seleccionar la dificultad como argumentos de entrada."
   ]
  },
  {
   "cell_type": "markdown",
   "metadata": {},
   "source": [
    "1.- Meter la palabra\n",
    "2.- Crear una visualizacion de la longitud de la palabra con guiones. Buscando veo que la manera mas clara es meter guiones en una lista y despues mostrar la lista con un join.\n",
    "3.- la idea es meter letras hasta que una de estas 2 cosas ocurran: se acaben las vidas o se sustituyan todos los guiones.\n",
    "4.- si se sustituyen los guiones, victoria. Si no derrota"
   ]
  },
  {
   "cell_type": "code",
   "execution_count": null,
   "metadata": {},
   "outputs": [],
   "source": [
    "def jugar_ahorcado(palabra, vidas):\n",
    "  \"\"\"\n",
    "  funcion del juego del ahorcado. Metemos una palabra y el numero de vidas\n",
    "  se van metiendo letras para intentar adivinar la palabra antes de que se acaben las vidas\n",
    "  \"\"\"\n",
    "  long = len(palabra)\n",
    "  palabra = palabra.lower()\n",
    "  guiones = [\"_\"]*long #busco la manera de que los guiones no aparezcan pegados. Con el join aparecen separados\n",
    "  errores_cometidos = 0\n",
    "  print (f\"Juego Del Ahorcado. Debes adivinar una palabra de {long} letras.\")\n",
    "  print (f\"Por cada letra que falles te quitaremos una vida\")\n",
    "  print (f\"Tienes {vidas} vidas \")\n",
    "  print (\"Comenzamos\")\n",
    "  print (\" \".join(guiones))\n",
    "#empieza el juego\n",
    "  while errores_cometidos < vidas and \"_\" in guiones: #mientras tenga vidas\n",
    "    letra = input(\"Introduce una letra: \") #introduced letra\n",
    "    letra = letra.lower()   #hacemos minusculas para comparar\n",
    "    if letra in palabra:  #si la letra esta en la palabra tenemos que ver si esta mas de una vez y su puesto\n",
    "      for i in range(long):\n",
    "        if palabra[i] == letra: #conseguimos las posiciones y las cambiamos en la palabra guiones\n",
    "          guiones[i]=letra #cuidado con los parentesis a la hora de buscar en una lista\n",
    "      print(\"letra correcta\")\n",
    "    else:\n",
    "      errores_cometidos += 1\n",
    "      print (f\"Letra incorrecta. Llevas {errores_cometidos} errores de {vidas} errores totales\")\n",
    "    print (\" \".join(guiones))\n",
    "  \n",
    "  if \"_\" not in guiones:\n",
    "    print(f\"Enhorabuena, {palabra} era la palabra\")\n",
    "  else:\n",
    "    print(f\"Lo siento. La palabra era {palabra}\")\n",
    "  return True\n",
    "\n"
   ]
  },
  {
   "cell_type": "code",
   "execution_count": 12,
   "metadata": {},
   "outputs": [
    {
     "name": "stdout",
     "output_type": "stream",
     "text": [
      "<class 'list'>\n",
      "['_', '_', '_', '_', '_', '_', '_']\n"
     ]
    }
   ],
   "source": [
    "guiones = [\"_\"]*7\n",
    "print (type(guiones))\n",
    "print (guiones)\n"
   ]
  }
 ],
 "metadata": {
  "kernelspec": {
   "display_name": "Python 3",
   "language": "python",
   "name": "python3"
  },
  "language_info": {
   "codemirror_mode": {
    "name": "ipython",
    "version": 3
   },
   "file_extension": ".py",
   "mimetype": "text/x-python",
   "name": "python",
   "nbconvert_exporter": "python",
   "pygments_lexer": "ipython3",
   "version": "3.12.10"
  },
  "orig_nbformat": 4
 },
 "nbformat": 4,
 "nbformat_minor": 2
}
