{
 "cells": [
  {
   "cell_type": "markdown",
   "metadata": {},
   "source": [
    "![imagen](./img/ejercicios.png)\n",
    "\n",
    "# Ejercicios Clases y Objetos"
   ]
  },
  {
   "attachments": {},
   "cell_type": "markdown",
   "metadata": {},
   "source": [
    "## Ejercicio 1\n",
    "Somos una empresa que tiene varias tiendas de electrodomésticos. Necesitamos un programa para manejar las tiendas, ver las ventas que han tenido, cuántos empleados hay, etc... Para ello vamos a modelizar la tienda en una clase, que tendrá las siguientes características:\n",
    "* Nombre clase: \"Tienda\"\n",
    "* Atributos comunes:\n",
    "    * Tipo: \"Electrodomésticos\"\n",
    "    * Abierta: True\n",
    "* Atributos propios de cada tienda:\n",
    "    * Nombre - String\n",
    "    * Dirección - String\n",
    "    * Número de empleados - int\n",
    "    * Ventas últimos 3 meses - Lista de 3 numeros\n",
    "* Método para calcular las ventas de todos los meses, que devuelva un número con todas las ventas.\n",
    "* Método que calcula la media de ventas de los últimos meses, por empleado\n",
    "* Método que devuelve en un string el nombre de la tienda, junto con su dirección.\n",
    "* Método que obtiene las ventas del último mes.\n",
    "* Método para dar una proyección de las ventas en caso de haber invertido X dinero en marketing en esa tienda. Siendo X el parámetro de entrada. Si X es menor de 1000, las ventas de los ultimos 3 meses hubiesen sido de (1.2 x ventas), si es mayor o igual de 1000, las ventas hubiesen sido de (1.5 x venta). El método reescribe el atributo de ventas en los últimos 3 meses, y además devuelve las ventas con el aumento.\n",
    "\n",
    "Se pide:\n",
    "1. Implementar la clase \"Tienda\"\n",
    "2. Crear tres tiendas con datos inventados\n",
    "3. Comprueba en al menos una de ellas, todo lo implementado en la clase tienda (sus atributos, media de ventas, ventas/empleado...)\n",
    "3. Calcular las ventas del último mes de todas las tiendas. Para ello usa el bucle `for`\n",
    "4. Imprime por pantalla los nombres de las tiendas cuya dirección lleve el string \"Avenida\"\n",
    "5. Seguro que ya has hecho este apartado... Documenta la clase :)"
   ]
  },
  {
   "cell_type": "code",
   "execution_count": null,
   "metadata": {},
   "outputs": [],
   "source": [
    "class Tienda:\n",
    "\n",
    "    \"\"\"\n",
    "    Clase que crea una tienda con los siguientes atributos\n",
    "    Nombre, direccion, empleados, venta, tipo y abierta\n",
    "    tiene metodos para calcular ventas, venta por empleados, direccion\n",
    "    ventas del ultimo mes y proyeccion de ventas\n",
    "    \"\"\"\n",
    "    #atributos comunes#\n",
    "    tipo = \"Electrodomesticos\"\n",
    "    abierta = True\n",
    "    #constructor con atributos propios de cada tienda\n",
    "    def __init__(self, nombre, direccion, empleados, ventas):\n",
    "        self.nombre = nombre\n",
    "        self.direccion = direccion\n",
    "        self.empleados = empleados\n",
    "        self.ventas = ventas #lista\n",
    "    \n",
    "    #metodo para calcular las ventas\n",
    "    def suma_ventas(self):\n",
    "        return sum(self.ventas)\n",
    "\n",
    "    #media de ventas por empleado\n",
    "    def media_ventas(self):\n",
    "        return (sum(self.ventas) / self.empleados)\n",
    "\n",
    "    #metodo que devuelve direccion y nombre\n",
    "    def datos_tienda (self):\n",
    "        return \"Nombre de la tienda: \" + self.nombre + \"; Dirección: \" + self.direccion\n",
    "\n",
    "    #metodo que obtiene ventas del ultimo mes\n",
    "    def ventas_ultimo_mes(self):\n",
    "        return self.ventas[-1]\n",
    "\n",
    "    #metodo que obtiene proyeccion de ventas\n",
    "    def proyeccion(self, inversion):\n",
    "        # factor de proyeccion dependiente de la inversion\n",
    "        if inversion < 1000:\n",
    "            factor = 1.2\n",
    "        else:\n",
    "            factor = 1.5\n",
    "        # cambio de la lista dependiendo del factor\n",
    "        for venta in range(len(self.ventas)):\n",
    "            self.ventas[venta] = self.ventas[venta] * factor\n",
    "\n",
    "        return self.ventas"
   ]
  },
  {
   "cell_type": "code",
   "execution_count": 3,
   "metadata": {},
   "outputs": [],
   "source": [
    "# Crear 3 tiendas de ejemplo\n",
    "tienda1 = Tienda(\"Electro Vitoria\", \"Avenida de la Libertad 123\", 2, [15000, 13000, 16000])\n",
    "tienda2 = Tienda(\"Tecno Gasteiz\", \"Calle Mayor 45\", 3, [8000, 9500, 10000])\n",
    "tienda3 = Tienda(\"Hogar Alava\", \"Avenida del Sol 77\", 1, [6000, 7000, 6500])"
   ]
  },
  {
   "cell_type": "code",
   "execution_count": 4,
   "metadata": {},
   "outputs": [
    {
     "name": "stdout",
     "output_type": "stream",
     "text": [
      "Nombre de la tienda: Electro Vitoria; Dirección: Avenida de la Libertad 123\n",
      "Esta tienda ha vendido: 44000 euros\n",
      "Cada empleado de esta tienda ha vendido: 22000.0 euros\n",
      "El ultimo mes se vendieron 16000 euros\n",
      "[22500.0, 19500.0, 24000.0]\n",
      "[27000.0, 23400.0, 28800.0]\n"
     ]
    }
   ],
   "source": [
    "#comprobar datos de metodos\n",
    "print (tienda1.datos_tienda()) \n",
    "print (\"Esta tienda ha vendido: \" + str(tienda1.suma_ventas()) + \" euros\")\n",
    "print (\"Cada empleado de esta tienda ha vendido: \" + str(tienda1.media_ventas()) + \" euros\")\n",
    "print (\"El ultimo mes se vendieron \" + str(tienda1.ventas_ultimo_mes()) + \" euros\")\n",
    "print (tienda1.proyeccion(1500))\n",
    "print (tienda1.proyeccion(900))"
   ]
  },
  {
   "cell_type": "code",
   "execution_count": 5,
   "metadata": {},
   "outputs": [
    {
     "name": "stdout",
     "output_type": "stream",
     "text": [
      "La tienda Electro Vitoria ha vendido 28800.0\n",
      "La tienda Tecno Gasteiz ha vendido 10000\n",
      "La tienda Hogar Alava ha vendido 6500\n"
     ]
    }
   ],
   "source": [
    "lista_tiendas = [tienda1, tienda2, tienda3]\n",
    "for i in range(len(lista_tiendas)):\n",
    "    tienda = lista_tiendas[i]\n",
    "    print (\"La tienda \" + tienda.nombre + \" ha vendido \" + str(tienda.ventas[-1]))"
   ]
  },
  {
   "cell_type": "code",
   "execution_count": 6,
   "metadata": {},
   "outputs": [
    {
     "name": "stdout",
     "output_type": "stream",
     "text": [
      "Electro Vitoria: Avenida de la Libertad 123\n",
      "Hogar Alava: Avenida del Sol 77\n"
     ]
    }
   ],
   "source": [
    "for t in lista_tiendas:\n",
    "    if \"Avenida\" in t.direccion:\n",
    "        print (t.nombre + \": \" + t.direccion)"
   ]
  },
  {
   "cell_type": "markdown",
   "metadata": {},
   "source": [
    "## Ejercicio 2\n",
    "En este ejercicio vamos a implementar una clase *Perro* en Python. La clase tiene las siguientes características:\n",
    "* Cosas que sabemos seguro que tiene un perro\n",
    "    * Tiene 4 patas\n",
    "    * 2 orejas\n",
    "    * 2 ojos\n",
    "    * Una velocidad de 0. Por defecto, el perro está parado\n",
    "* Cuando se inicialice:\n",
    "    * El perro será de una determinada raza\n",
    "    * Por defecto tendrá pelo \"Marrón\", a no ser que se diga lo contrario.\n",
    "    * Por defecto no tendrá dueño, a no ser que se diga lo contrario.\n",
    "    \n",
    "* Dispondrá también de un método llamado andar, que tiene un argumento de entrada (aumento_velocidad). Este valor se le sumará a la velocidad que ya llevaba el perro.\n",
    "* Necesita otro método (parar), donde pondremos la velocidad a 0.\n",
    "* Otro método llamado \"ladrar\", que tendrá un argumento de entrada, y la salida será el siguiente string: \"GUAU!\" + el argumento de entrada.\n",
    "\n",
    "\n",
    "Se pide:\n",
    "* Implementa la clase *Perro*\n",
    "* Crea un objeto de tipo *Perro*, sin dueño\n",
    "* Comprueba que están bien todos sus atributos\n",
    "* Prueba que ande, y comprueba su velocidad\n",
    "* Páralo\n",
    "* Documenta la clase *Perro*"
   ]
  },
  {
   "cell_type": "code",
   "execution_count": null,
   "metadata": {},
   "outputs": [],
   "source": [
    "class Perro:\n",
    "    \"\"\"\n",
    "    clase que define a un perro\n",
    "    \"\"\"\n",
    "\n",
    "    #cosas comunes a todos los perros\n",
    "    patas = 4\n",
    "    orejas = 2\n",
    "    ojos = 2\n",
    "    velocidad = 0\n",
    "    #constructor con valores por defecto\n",
    "    def __init__(self, raza, pelo = \"Marrón\", dueño = None):\n",
    "        self.raza = raza\n",
    "        self.pelo = pelo\n",
    "        self.dueño = dueño\n",
    "    #metodo andar. Aumenta la velocidad\n",
    "    def andar(self, aumento_v):\n",
    "        self.velocidad = self.velocidad + aumento_v\n",
    "        return self.velocidad\n",
    "    #metodo parar. Lleva la velocidad a 0\n",
    "    def parar(self):\n",
    "        self.velocidad = 0\n",
    "        return self.velocidad\n",
    "\n",
    "    #metodo ladrar\n",
    "    def ladrar(self, argumento):\n",
    "        return print (\"GUAU \" + str(argumento))"
   ]
  },
  {
   "cell_type": "code",
   "execution_count": 8,
   "metadata": {},
   "outputs": [
    {
     "name": "stdout",
     "output_type": "stream",
     "text": [
      "4 patas tiene \n",
      "2 orejas tiene\n",
      "2 ojos tiene\n",
      "Tiene el pelo Marrón\n",
      "No tiene dueño\n",
      "Velocidad: 0 km/h\n"
     ]
    }
   ],
   "source": [
    "boby = Perro(\"Pastor Aleman\")\n",
    "\n",
    "print (str(boby.patas) + \" patas tiene \")\n",
    "print (str(boby.orejas) + \" orejas tiene\")\n",
    "print (str(boby.ojos) + \" ojos tiene\")\n",
    "print (\"Tiene el pelo \" + str(boby.pelo))\n",
    "if boby.dueño == None:\n",
    "    print (\"No tiene dueño\")\n",
    "print (\"Velocidad: \"+ str(boby.velocidad) + \" km/h\")"
   ]
  },
  {
   "cell_type": "code",
   "execution_count": 9,
   "metadata": {},
   "outputs": [
    {
     "name": "stdout",
     "output_type": "stream",
     "text": [
      "Velocidad: 10 km/h\n"
     ]
    }
   ],
   "source": [
    "boby.andar(10)\n",
    "print (\"Velocidad: \"+ str(boby.velocidad) + \" km/h\")"
   ]
  },
  {
   "cell_type": "code",
   "execution_count": 10,
   "metadata": {},
   "outputs": [
    {
     "name": "stdout",
     "output_type": "stream",
     "text": [
      "Velocidad: 0 km/h\n"
     ]
    }
   ],
   "source": [
    "boby.parar()\n",
    "print (\"Velocidad: \"+ str(boby.velocidad) + \" km/h\")"
   ]
  },
  {
   "cell_type": "code",
   "execution_count": 11,
   "metadata": {},
   "outputs": [
    {
     "name": "stdout",
     "output_type": "stream",
     "text": [
      "GUAU hola\n"
     ]
    }
   ],
   "source": [
    "boby.ladrar(\"hola\")"
   ]
  }
 ],
 "metadata": {
  "kernelspec": {
   "display_name": "Python 3",
   "language": "python",
   "name": "python3"
  },
  "language_info": {
   "codemirror_mode": {
    "name": "ipython",
    "version": 3
   },
   "file_extension": ".py",
   "mimetype": "text/x-python",
   "name": "python",
   "nbconvert_exporter": "python",
   "pygments_lexer": "ipython3",
   "version": "3.12.10"
  }
 },
 "nbformat": 4,
 "nbformat_minor": 4
}
