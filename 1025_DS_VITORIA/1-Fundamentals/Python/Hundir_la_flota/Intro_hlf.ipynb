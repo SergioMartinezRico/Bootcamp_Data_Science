{
 "cells": [
  {
   "cell_type": "markdown",
   "metadata": {},
   "source": [
    "![imagen](./img/hundir-la-flota-juego-de-mesa.jpg)"
   ]
  },
  {
   "cell_type": "markdown",
   "metadata": {},
   "source": [
    "En esta entrega vas a crear tu propio juego de **Hundir la flota** en Python. \n",
    "[Aquí](http://es.battleship-game.org/) podrás probarlo online."
   ]
  },
  {
   "attachments": {},
   "cell_type": "markdown",
   "metadata": {},
   "source": [
    "### En clase\n",
    "1. Crea la función `crear_tablero(tamaño)`, un tablero por defecto de 10x10 relleno del carácter \"_\" con numpy.\n",
    "2. Crea la función `colocar_barco(barco, tablero)`, que recibirá la lista de casillas de un barco y el tablero donde colocarlo. Prueba primero a posicionar un par de barcos por ejemplo en [(0,1), (1,1)] y [(1,3), (1,4), (1,5), (1,6)]. Los barcos serán Os mayúsculas. Como ves, un barco de dos posiciones de eslora y otro de cuatro.\n",
    "3. Crea la función `disparar(casilla, tablero)`, si el disparo acierta en un barco sustituye la O por una X (tocado), si es agua, sustituye la _ por una A (Agua). Prueba primero a disparar el barco de 2 casillas.\n",
    "4. Crea la función `crear_barco(eslora)`, que deberá crear una lista de casillas de un barco en función a la eslora, de forma aleatoria.\n",
    "\n",
    "### Proyecto individual\n",
    "5. Crea la función `colocar_barcos(tablero)`, que deberá de colocar la lista de barcos generados de forma aleatoria (6 barcos en total (3 barcos de eslora 2, 2 de eslora 3 y 1 eslora 4)) ¡Mucho ojo con barcos que estén superpuestos (no pueden ocupar dos barcos la misma casilla) o barcos que se salgan del tablero!\n",
    "6. Escribe el flujo completo del programa, con la dinámica de turnos y funcionalidades necesarios para jugar contra la máquina (dispara a tu tablero de forma aleatoria). Crea todas las funciones que necesites y aplica todo lo aprendido que te sea útil.\n",
    "7. Encapsula todo en un `main.py` y un `utils.py` para ejecutarlo desde terminal.\n",
    "8. Sube tu proyecto a un repositorio de github y prepara una demo (solo se podrá enseñar desde terminal) para la presentación de tu proyecto."
   ]
  },
  {
   "cell_type": "code",
   "execution_count": null,
   "metadata": {},
   "outputs": [],
   "source": []
  },
  {
   "cell_type": "code",
   "execution_count": 3,
   "metadata": {},
   "outputs": [
    {
     "name": "stdout",
     "output_type": "stream",
     "text": [
      "[['_' '_' '_' '_' '_' '_' '_' '_' '_' '_']\n",
      " ['_' '_' '_' '_' '_' '_' '_' '_' '_' '_']\n",
      " ['_' '_' '_' '_' '_' '_' '_' '_' '_' '_']\n",
      " ['_' '_' '_' '_' '_' '_' '_' '_' '_' '_']\n",
      " ['_' '_' '_' '_' '_' '_' '_' '_' '_' '_']\n",
      " ['_' '_' '_' '_' '_' '_' '_' '_' '_' '_']\n",
      " ['_' '_' '_' '_' '_' '_' '_' '_' '_' '_']\n",
      " ['_' '_' '_' '_' '_' '_' '_' '_' '_' '_']\n",
      " ['_' '_' '_' '_' '_' '_' '_' '_' '_' '_']\n",
      " ['_' '_' '_' '_' '_' '_' '_' '_' '_' '_']]\n"
     ]
    }
   ],
   "source": [
    "import numpy as np\n",
    "\n",
    "tablero = np.full((10,10), \"_\")\n",
    "print(tablero)"
   ]
  },
  {
   "cell_type": "markdown",
   "metadata": {},
   "source": [
    "## Presentación\n",
    "Cada uno realizará una presentación el **viernes 24 de Octubre**, donde se contarán con **10 minutos máximo**, importante ceñirse al tiempo. Se tendrá que enseñar:\n",
    "1. El git clone del repositorio de github a tu ordenador y explicar las partes más relevantes del código.\n",
    "2. Una demo donde se muestre el correcto funcionamiento del código para jugar, ejecutándose desde terminal"
   ]
  },
  {
   "cell_type": "markdown",
   "metadata": {},
   "source": [
    "1.- Tableros. Opciones: cada jugador tiene su tablero de barcos y un tablero de disparos. El tablero de barcos de cada jugador marca el fin del juego. Cuando no queden barcos (si se marcan los barcos con letra B cuando sean tocados, pej. X) En el otro, se ven tus disparos. \n",
    "2.- Colocar barcos. Comprobar tamaño de barco, orientacion de barco. Despues hay que comprobar si la casilla en la que se coloca esta vacia recorriendo en horizontal o en vertical. Si estan vacias, entonces sustituir el _ por una O\n",
    "  hacer una funcion/metodo de colocar un barco y despues otra de colocar todos que llame a la que coloca 1\n",
    "3.-Disparar es recibir una coordenada, comprobar que tiene en el tablero contrario y cambiar segun sea tocado o no.\n",
    "4.- Jugar: repetir el bucle disparar mientras el jugador haga tocados, si hace agua, cambiar el turno.\n"
   ]
  },
  {
   "cell_type": "code",
   "execution_count": null,
   "metadata": {},
   "outputs": [],
   "source": [
    "\n",
    "\n",
    "class Barco():\n",
    "  \"\"\"\n",
    "  crea un barco al que se le pasa la eslora\n",
    "  conoce sus posiciones\n",
    "  conoce sus disparos\n",
    "  cuando los disparos son iguales a su eslora pasa a estar hundido\n",
    "  \"\"\"\n",
    "\n",
    "  def __init__ (self, p_eslora):\n",
    "    self.eslora = p_eslora\n",
    "    self.posiciones = []\n",
    "    self.disparos = 0\n",
    "  \n",
    "  def disparo (self):\n",
    "    self.disparos +=1\n",
    "  def hundido (self):\n",
    "    if self.disparos < self.eslora:\n",
    "      return False\n",
    "    else:\n",
    "      return True\n"
   ]
  },
  {
   "cell_type": "code",
   "execution_count": null,
   "metadata": {},
   "outputs": [],
   "source": [
    "import random\n",
    "\n",
    "\n",
    "def colocar(self):\n",
    "    colocado = False\n",
    "\n",
    "    while not colocado:\n",
    "        orientacion = random.choice(\"HV\")\n",
    "        fila = random.randint(0, self.tamano - 1)\n",
    "        col = random.randint(0, self.tamano - 1)\n",
    "\n",
    "        if orientacion == \"H\":\n",
    "            # comprueba si cabe en horizontal\n",
    "            if col + self.barco.eslora <= self.tamano:\n",
    "                self.barco.posiciones = [(fila, col + i) for i in range(self.barco.eslora)]\n",
    "                colocado = True\n",
    "        else:\n",
    "            # comprueba si cabe en vertical\n",
    "            if fila + self.barco.eslora <= self.tamano:\n",
    "                self.barco.posiciones = [(fila + i, col) for i in range(self.barco.eslora)]\n",
    "                colocado = True\n",
    "\n",
    "    return self.barco.posiciones"
   ]
  },
  {
   "cell_type": "code",
   "execution_count": null,
   "metadata": {},
   "outputs": [],
   "source": []
  },
  {
   "cell_type": "code",
   "execution_count": 1,
   "metadata": {},
   "outputs": [
    {
     "name": "stdout",
     "output_type": "stream",
     "text": [
      "Tamaño del tablero final: (11, 11)\n",
      "\n",
      "   A B C D E F G H I J\n",
      " 1 _ _ _ _ _ _ _ _ _ _\n",
      " 2 _ _ _ _ _ _ _ _ _ _\n",
      " 3 _ _ _ _ _ _ _ _ _ _\n",
      " 4 _ _ _ _ _ _ _ _ _ _\n",
      " 5 _ _ _ _ _ _ _ _ _ _\n",
      " 6 _ _ _ _ _ _ _ _ _ _\n",
      " 7 _ _ _ _ _ _ _ _ _ _\n",
      " 8 _ _ _ _ _ _ _ _ _ _\n",
      " 9 _ _ _ _ _ _ _ _ _ _\n",
      "10 _ _ _ _ _ _ _ _ _ _\n",
      "[['  ' 'A' 'B' 'C' 'D' 'E' 'F' 'G' 'H' 'I' 'J']\n",
      " [' 1' '_' '_' '_' '_' '_' '_' '_' '_' '_' '_']\n",
      " [' 2' '_' '_' '_' '_' '_' '_' '_' '_' '_' '_']\n",
      " [' 3' '_' '_' '_' '_' '_' '_' '_' '_' '_' '_']\n",
      " [' 4' '_' '_' '_' '_' '_' '_' '_' '_' '_' '_']\n",
      " [' 5' '_' '_' '_' '_' '_' '_' '_' '_' '_' '_']\n",
      " [' 6' '_' '_' '_' '_' '_' '_' '_' '_' '_' '_']\n",
      " [' 7' '_' '_' '_' '_' '_' '_' '_' '_' '_' '_']\n",
      " [' 8' '_' '_' '_' '_' '_' '_' '_' '_' '_' '_']\n",
      " [' 9' '_' '_' '_' '_' '_' '_' '_' '_' '_' '_']\n",
      " ['10' '_' '_' '_' '_' '_' '_' '_' '_' '_' '_']]\n"
     ]
    }
   ],
   "source": [
    "import numpy as np\n",
    "\n",
    "# Creamos un tablero vacío de 10x10 con \"_\"\n",
    "tablero = np.full((10, 10), \"_\", dtype=str)\n",
    "\n",
    "# Columna de números escrita a mano (con espacios para alinear)\n",
    "col_numeros = np.array([\n",
    "    [\" 1\"], [\" 2\"], [\" 3\"], [\" 4\"], [\" 5\"],\n",
    "    [\" 6\"], [\" 7\"], [\" 8\"], [\" 9\"], [\"10\"]\n",
    "])\n",
    "\n",
    "# Fila de letras (1x11)\n",
    "fila_letras = np.array([[\"  \", \"A\", \"B\", \"C\", \"D\", \"E\", \"F\", \"G\", \"H\", \"I\", \"J\"]])\n",
    "\n",
    "# Concatenamos la columna de números a la izquierda\n",
    "tablero_numerado = np.hstack((col_numeros, tablero))\n",
    "\n",
    "# Concatenamos la fila de letras arriba\n",
    "tablero_final = np.vstack((fila_letras, tablero_numerado))\n",
    "\n",
    "# Comprobamos la forma\n",
    "print(\"Tamaño del tablero final:\", tablero_final.shape)\n",
    "print()\n",
    "\n",
    "# Imprimimos el tablero bonito\n",
    "for fila in tablero_final:\n",
    "    print(\" \".join(fila))\n",
    "\n",
    "print(tablero_final)\n"
   ]
  }
 ],
 "metadata": {
  "kernelspec": {
   "display_name": "Python 3",
   "language": "python",
   "name": "python3"
  },
  "language_info": {
   "codemirror_mode": {
    "name": "ipython",
    "version": 3
   },
   "file_extension": ".py",
   "mimetype": "text/x-python",
   "name": "python",
   "nbconvert_exporter": "python",
   "pygments_lexer": "ipython3",
   "version": "3.12.10"
  },
  "orig_nbformat": 4
 },
 "nbformat": 4,
 "nbformat_minor": 2
}
