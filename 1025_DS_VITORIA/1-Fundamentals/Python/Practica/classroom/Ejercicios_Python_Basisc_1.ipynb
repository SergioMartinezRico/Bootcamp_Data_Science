{
  "cells": [
    {
      "cell_type": "markdown",
      "metadata": {
        "id": "_9pTa0PXK9q6"
      },
      "source": [
        "## EJERCICIOS PYTHON BASICO 1:\n",
        "## Tipos y conversión de tipos"
      ]
    },
    {
      "cell_type": "markdown",
      "metadata": {
        "id": "tYmV-veoK9q6"
      },
      "source": [
        "Completa los siguiente ejercicios, la solución a los mismos se publicarán en el repo del curso a lo largo del sprint"
      ]
    },
    {
      "cell_type": "markdown",
      "metadata": {
        "id": "YAdFbIOXK9q7"
      },
      "source": [
        "\n",
        "\n",
        "## Ejercicio 1\n",
        "\n",
        "1. Crea dos variables numericas: un `int` y un `float`\n",
        "2. Comprueba sus tipos\n",
        "3. Sumalas en otra nueva\n",
        "4. ¿De qué tipo es la nueva variable?\n",
        "5. Elimina las dos primeras variables creadas"
      ]
    },
    {
      "cell_type": "code",
      "execution_count": null,
      "metadata": {
        "id": "8QZmuLOsK9q7"
      },
      "outputs": [
        {
          "name": "stdout",
          "output_type": "stream",
          "text": [
            "<class 'float'>\n"
          ]
        }
      ],
      "source": [
        "entero = 1 #int\n",
        "real = 2.0 #float\n",
        "suma = entero + real #suma\n",
        "print (type(suma)) #clase\n",
        "del entero, real #borrar variables\n"
      ]
    },
    {
      "cell_type": "markdown",
      "metadata": {
        "id": "f5xfpkpQK9q7"
      },
      "source": [
        "\n",
        "\n",
        "## Ejercicio 2\n",
        "Escribe un programa para pasar de grados a radianes. Hay que usar `input`. Recuerda que la conversión se realiza mediante\n",
        "\n",
        "radianes = grados*(pi/180)"
      ]
    },
    {
      "cell_type": "code",
      "execution_count": null,
      "metadata": {
        "id": "V50TUQMzK9q7"
      },
      "outputs": [
        {
          "name": "stdout",
          "output_type": "stream",
          "text": [
            "360.0 grados son 6.283185307179586 radianes\n"
          ]
        }
      ],
      "source": [
        "import math #para usar pi\n",
        "grados = input (\"Introduce el valor en grados\")\n",
        "grados = float(grados)\n",
        "radianes = grados*math.pi/180\n",
        "print (f\"{grados} grados son {radianes} radianes\")"
      ]
    },
    {
      "cell_type": "markdown",
      "metadata": {
        "id": "zX3-p58CK9q7"
      },
      "source": [
        "\n",
        "\n",
        "## Ejercicio 3\n",
        "Escribe un programa que calcule el area de un paralelogramo (base x altura). También con `input`"
      ]
    },
    {
      "cell_type": "code",
      "execution_count": 6,
      "metadata": {
        "id": "s2QfNiBAK9q7"
      },
      "outputs": [
        {
          "name": "stdout",
          "output_type": "stream",
          "text": [
            "El área del paralelogramo es 20.0 unidades\n"
          ]
        }
      ],
      "source": [
        "base = input(\"Introduce las dimensiones de la base\")\n",
        "altura = input (\"Introduce las dimensiones de la altura\")\n",
        "area = float(base) * float(altura)\n",
        "print (f\"El área del paralelogramo es {area} unidades\")"
      ]
    },
    {
      "cell_type": "markdown",
      "metadata": {
        "id": "-6TBo_HvK9q8"
      },
      "source": [
        "\n",
        "\n",
        "## Ejercicio 4\n",
        "Escribe un programa que calcule el area de un paralelogramo (base x altura). También con `input`. En este caso debe ser capaz de admitir valores reales, con decimales, para base y altura en español. (PISTA: Recuerda que tendrás que hacer uso del método replace)"
      ]
    },
    {
      "cell_type": "code",
      "execution_count": 7,
      "metadata": {
        "id": "uzUIa1JqK9q8"
      },
      "outputs": [
        {
          "name": "stdout",
          "output_type": "stream",
          "text": [
            "El área del paralelogramo es 36.4 unidades cuadradas\n"
          ]
        }
      ],
      "source": [
        "altura = input(\"Pon el valor de la altura del paralelogramo:\") #inputs en string, validas las comas\n",
        "base = input(\"Pon el valor de la base del paralelogramo:\")\n",
        "#reemplaza puntos por comas y convierte en float\n",
        "altura = float(altura.replace(\",\",\".\")) \n",
        "base = float(base.replace(\",\",\".\"))\n",
        "#calcula el area\n",
        "area = altura * base\n",
        "print(\"El área del paralelogramo es\", area, \"unidades cuadradas\")"
      ]
    },
    {
      "cell_type": "markdown",
      "metadata": {
        "id": "5zKugi5iK9q8"
      },
      "source": [
        "\n",
        "\n",
        "## Ejercicio 5\n",
        "Complete el siguiente código para solicitar al usuario su nombre y su edad. Luego, calcule en qué año nació el usuario y muestre el resultado."
      ]
    },
    {
      "cell_type": "code",
      "execution_count": 8,
      "metadata": {
        "id": "LISfTnRkK9q8"
      },
      "outputs": [
        {
          "name": "stdout",
          "output_type": "stream",
          "text": [
            "44, naciste en el año 1981.\n"
          ]
        }
      ],
      "source": [
        "nombre = input(\"¿Cuál es tu nombre? \")\n",
        "edad = int(input(\"¿Cuál es tu edad? \"))\n",
        "año_actual = 2025  # Puedes cambiarlo según el año en curso\n",
        "año_nacimiento = año_actual - edad\n",
        "\n",
        "print(f\"{nombre}, naciste en el año {año_nacimiento}.\")\n"
      ]
    },
    {
      "cell_type": "code",
      "execution_count": null,
      "metadata": {},
      "outputs": [],
      "source": []
    }
  ],
  "metadata": {
    "colab": {
      "provenance": []
    },
    "kernelspec": {
      "display_name": "Python 3 (ipykernel)",
      "language": "python",
      "name": "python3"
    },
    "language_info": {
      "codemirror_mode": {
        "name": "ipython",
        "version": 3
      },
      "file_extension": ".py",
      "mimetype": "text/x-python",
      "name": "python",
      "nbconvert_exporter": "python",
      "pygments_lexer": "ipython3",
      "version": "3.13.7"
    },
    "orig_nbformat": 4
  },
  "nbformat": 4,
  "nbformat_minor": 0
}
