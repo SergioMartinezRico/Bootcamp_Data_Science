{
 "cells": [
  {
   "cell_type": "markdown",
   "metadata": {
    "id": "dP4LL5soRnTi"
   },
   "source": [
    "![TheBridge_logo_RGB_color.jpg](attachment:TheBridge_logo_RGB_color.jpg)"
   ]
  },
  {
   "cell_type": "markdown",
   "metadata": {
    "id": "XT82Ap5NRnTk"
   },
   "source": [
    "![imagen](./img/ejercicios.png)"
   ]
  },
  {
   "cell_type": "markdown",
   "metadata": {
    "id": "fuT1uW66RnTl"
   },
   "source": [
    "## EJERCICIOS PYTHON BASICO 3:\n",
    "## Operaciones matemáticas, comparación y booleanas"
   ]
  },
  {
   "cell_type": "markdown",
   "metadata": {
    "id": "SG_dOPiuRnTl"
   },
   "source": [
    "Completa los siguiente ejercicios, la solución completa a los mismos se publicarán en el repo del curso a lo largo del sprint. En algunos ejercicios se muestra la solución final, para que puedas comprobar que lo has hecho bien, pero lo importante es el código que generes. ¡Vaaamos, a ello...!"
   ]
  },
  {
   "cell_type": "markdown",
   "metadata": {
    "id": "pqtWNQxRRnTm"
   },
   "source": [
    "![ejercicio.png](./img/ejercicio.png)\n",
    "\n",
    "\n",
    "## Ejercicio 1\n",
    "Tenemos las siguientes variables:\n",
    "\n",
    "```Python\n",
    "A = 4\n",
    "B = \"Text\"\n",
    "C = 4.1\n",
    "```\n",
    "\n",
    "Comprueba:\n",
    "1. Si A y B son equivalentes\n",
    "2. Si A y C NO son equivalentes\n",
    "3. Si A es mayor que C\n",
    "4. Si C es menor o igual que A\n",
    "5. Si B NO es equivalente a C"
   ]
  },
  {
   "cell_type": "code",
   "execution_count": 2,
   "metadata": {
    "id": "ba-wB1HiRnTm",
    "outputId": "2e476cab-06b7-4fe6-e7e6-6be59a1fd127"
   },
   "outputs": [
    {
     "name": "stdout",
     "output_type": "stream",
     "text": [
      "¿A y B son equivalentes? False\n",
      "¿A y C NO son equivalentes? True\n",
      "¿A es mayor que C? False\n",
      "¿C es menor o igual que A? False\n",
      "¿B NO es equivalente a C? True\n"
     ]
    }
   ],
   "source": [
    "#variables\n",
    "A = 4\n",
    "B = \"Text\"\n",
    "C = 4.1\n",
    "#comprobaciones\n",
    "print(\"¿A y B son equivalentes?\", A == B)\n",
    "print(\"¿A y C NO son equivalentes?\", A != C)\n",
    "print(\"¿A es mayor que C?\", A > C)\n",
    "print(\"¿C es menor o igual que A?\", C <= A)\n",
    "print(\"¿B NO es equivalente a C?\", B != C)\n"
   ]
  },
  {
   "cell_type": "code",
   "execution_count": null,
   "metadata": {},
   "outputs": [],
   "source": []
  },
  {
   "cell_type": "markdown",
   "metadata": {
    "id": "22yO1uEeRnTn"
   },
   "source": [
    "![ejercicio.png](./img/ejercicio.png)\n",
    "\n",
    "## Ejercicio 2\n",
    "Crea un programa donde se recojan dos inputs del usuario, y el output del programa sea si esos inputs son iguales o no"
   ]
  },
  {
   "cell_type": "code",
   "execution_count": 10,
   "metadata": {
    "id": "YDNCPh8sRnTn"
   },
   "outputs": [
    {
     "name": "stdin",
     "output_type": "stream",
     "text": [
      "Escribe un dato: gato\n",
      "Escribe otro dato: perro\n"
     ]
    },
    {
     "name": "stdout",
     "output_type": "stream",
     "text": [
      "gato perro\n",
      "Los datos son distintos\n"
     ]
    }
   ],
   "source": [
    "#introducir datos\n",
    "dato_1 = input(\"Escribe un dato:\")\n",
    "dato_2 = input(\"Escribe otro dato:\")\n",
    "\n",
    "#nombrar y comparar\n",
    "print (dato_1, dato_2)\n",
    "if dato_1 == dato_2:\n",
    "    print(\"Los datos son iguales\")\n",
    "else:\n",
    "    print(\"Los datos son distintos\")\n"
   ]
  },
  {
   "cell_type": "code",
   "execution_count": null,
   "metadata": {},
   "outputs": [],
   "source": []
  },
  {
   "cell_type": "code",
   "execution_count": null,
   "metadata": {},
   "outputs": [],
   "source": []
  },
  {
   "cell_type": "code",
   "execution_count": null,
   "metadata": {},
   "outputs": [],
   "source": []
  },
  {
   "cell_type": "code",
   "execution_count": null,
   "metadata": {},
   "outputs": [],
   "source": []
  },
  {
   "cell_type": "markdown",
   "metadata": {
    "id": "sgl0UpQbRnTo"
   },
   "source": [
    "![ejercicio.png](./img/ejercicio.png)\n",
    "\n",
    "## Ejercicio 3\n",
    "Mismo programa que en 2, pero en esta ocasión tienen que ser tres inputs y dos salidas. Una de las salidas que nos indique si todos son iguales, y la otra si al menos dos inputs sí que lo son"
   ]
  },
  {
   "cell_type": "code",
   "execution_count": 9,
   "metadata": {
    "id": "8JriofFkRnTo",
    "outputId": "2f07b982-fd4f-4a81-f3f0-06d8631610a5"
   },
   "outputs": [
    {
     "name": "stdin",
     "output_type": "stream",
     "text": [
      "Escribe un dato: gato\n",
      "Escribe otro dato: gato\n",
      "Escribe un tercer dato gato\n"
     ]
    },
    {
     "name": "stdout",
     "output_type": "stream",
     "text": [
      "gato gato gato\n",
      "Los tres datos son iguales\n"
     ]
    }
   ],
   "source": [
    "#introducir datos\n",
    "dato_1 = input(\"Escribe un dato:\")\n",
    "dato_2 = input(\"Escribe otro dato:\")\n",
    "dato_3 = input(\"Escribe un tercer dato\")\n",
    "\n",
    "#ver datos\n",
    "print(dato_1, dato_2, dato_3)\n",
    "\n",
    "#comparar datos\n",
    "caso_1= dato_1 == dato_2\n",
    "caso_2= dato_1 == dato_3\n",
    "caso_3= dato_3 == dato_2\n",
    "\n",
    "#condicion\n",
    "\n",
    "if caso_1 and caso_2 and caso_3:\n",
    "    print(\"Los tres datos son iguales\")\n",
    "elif caso_1 or caso_2 or caso_3:\n",
    "    print(\"Al menos 2 datos son iguales\")\n",
    "else:\n",
    "    print(\"Todos son distintos\")\n",
    "\n"
   ]
  },
  {
   "cell_type": "code",
   "execution_count": null,
   "metadata": {},
   "outputs": [],
   "source": []
  },
  {
   "cell_type": "code",
   "execution_count": null,
   "metadata": {},
   "outputs": [],
   "source": []
  },
  {
   "cell_type": "code",
   "execution_count": null,
   "metadata": {},
   "outputs": [],
   "source": []
  },
  {
   "cell_type": "markdown",
   "metadata": {
    "id": "TIq3jLzxRnTo"
   },
   "source": [
    "![ejercicio.png](./img/ejercicio.png)\n",
    "\n",
    "## Ejercicio 4\n",
    "Razona sin ejecutar código el output que obtendremos de las siguientes sentencias\n",
    "1. True and True and False\n",
    "2. not ((True or False) and (True or False))\n",
    "3. (False or False or False or True) and False\n",
    "4. not False and True and not True"
   ]
  },
  {
   "cell_type": "markdown",
   "metadata": {
    "id": "jpoRMQBxRnTo"
   },
   "source": [
    "1.-false\n",
    "2.-false\n",
    "3.-false\n",
    "4.-false\n"
   ]
  }
 ],
 "metadata": {
  "colab": {
   "provenance": []
  },
  "kernelspec": {
   "display_name": "Python 3 (ipykernel)",
   "language": "python",
   "name": "python3"
  },
  "language_info": {
   "codemirror_mode": {
    "name": "ipython",
    "version": 3
   },
   "file_extension": ".py",
   "mimetype": "text/x-python",
   "name": "python",
   "nbconvert_exporter": "python",
   "pygments_lexer": "ipython3",
   "version": "3.13.7"
  }
 },
 "nbformat": 4,
 "nbformat_minor": 4
}
