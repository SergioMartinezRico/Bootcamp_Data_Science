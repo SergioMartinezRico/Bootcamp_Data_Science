{
 "cells": [
  {
   "cell_type": "markdown",
   "metadata": {
    "id": "2weJ_pFJVT1t"
   },
   "source": [
    "![TheBridge_logo_RGB_color.jpg](attachment:TheBridge_logo_RGB_color.jpg)"
   ]
  },
  {
   "cell_type": "markdown",
   "metadata": {
    "id": "bEg02TF6VT1v"
   },
   "source": [
    "![imagen](./img/ejercicios.png)"
   ]
  },
  {
   "cell_type": "markdown",
   "metadata": {
    "id": "kxeItQKbVT1w"
   },
   "source": [
    "## EJERCICIOS PYTHON BASICO 4:\n",
    "## Funciones, métodos, listas"
   ]
  },
  {
   "cell_type": "markdown",
   "metadata": {
    "id": "IX3L3IVpVT1w"
   },
   "source": [
    "Completa los siguiente ejercicios, la solución completa a los mismos se publicarán en el repo del curso a lo largo del sprint. En algunos ejercicios se muestra la solución final, para que puedas comprobar que lo has hecho bien, pero lo importante es el código que generes. ¡Vaaamos, a ello...!"
   ]
  },
  {
   "cell_type": "markdown",
   "metadata": {
    "id": "Z0WxJ8X1VT1x"
   },
   "source": [
    "![ejercicio.png](./img/ejercicio.png)\n",
    "\n",
    "## Ejercicio 1\n",
    "Para este ejercicio vamos a poner en práctica [las funciones built in](https://docs.python.org/3/library/functions.html).\n",
    "\n",
    "1. Calcula el máximo de la lista: [4, 6, 8, -1]\n",
    "2. Suma todos los elementos de la lista anterior\n",
    "3. Redondea este float a 3 dígitos decimales: 63.451256965\n",
    "4. Valor absoluto de: -74"
   ]
  },
  {
   "cell_type": "code",
   "execution_count": 1,
   "metadata": {
    "id": "Lw3HLTHYVT1x"
   },
   "outputs": [
    {
     "name": "stdout",
     "output_type": "stream",
     "text": [
      "8\n",
      "17\n",
      "63.451\n",
      "74\n"
     ]
    }
   ],
   "source": [
    "lista = [4,6,8,-1]\n",
    "#maximo\n",
    "print(max(lista))\n",
    "#suma\n",
    "print(sum(lista))\n",
    "#redondeo\n",
    "num_real = 63.451256965\n",
    "num_red = round(num_real,3)\n",
    "print(num_red)\n",
    "#valor absoluto\n",
    "valor = -74\n",
    "valor_abs = abs(valor)\n",
    "print(valor_abs)"
   ]
  },
  {
   "cell_type": "markdown",
   "metadata": {
    "id": "ZGibzxXLVT1x"
   },
   "source": [
    "![ejercicio.png](./img/ejercicio.png)\n",
    "\n",
    "## Ejercicio 2\n",
    "Para el siguiente string se pide imprimir por pantalla los siguientes casos\n",
    "\n",
    "    \"En un lugar de la Mancha, de cuyo nombre no quiero acordarme.\"\n",
    "\n",
    "1. Pásalo todo a mayúsculas\n",
    "2. Pásalo todo a minúsculas\n",
    "3. Solo la primera letra de cada palabra en mayúscula, el resto en minúscula\n",
    "4. Crea una lista dividiéndolo por sus espacios\n",
    "5. Sustituye las comas `,` por puntos y comas `;`\n",
    "6. Elimina las `a` minúsculas"
   ]
  },
  {
   "cell_type": "code",
   "execution_count": 2,
   "metadata": {
    "id": "UAGD_sk5VT1y",
    "outputId": "d6d5ca29-3da8-4b08-f546-5b758a3267b6"
   },
   "outputs": [
    {
     "name": "stdout",
     "output_type": "stream",
     "text": [
      "EN UN LUGAR DE LA MANCHA, DE CUYO NOMBRE NO QUIERO ACORDARME.\n",
      "en un lugar de la mancha, de cuyo nombre no quiero acordarme.\n",
      "En Un Lugar De La Mancha, De Cuyo Nombre No Quiero Acordarme.\n",
      "['En', 'un', 'lugar', 'de', 'la', 'Mancha,', 'de', 'cuyo', 'nombre', 'no', 'quiero', 'acordarme.']\n",
      "En un lugar de la Mancha; de cuyo nombre no quiero acordarme.\n",
      "En un lugr de l Mnch, de cuyo nombre no quiero cordrme.\n"
     ]
    }
   ],
   "source": [
    "texto = \"En un lugar de la Mancha, de cuyo nombre no quiero acordarme.\"\n",
    "#mays\n",
    "print(texto.upper())\n",
    "#mins\n",
    "print(texto.lower())\n",
    "#caps\n",
    "print(texto.title())\n",
    "#lista\n",
    "print(texto.split(\" \"))\n",
    "#sustituir\n",
    "print(texto.replace(\",\",\";\"))\n",
    "#eliminar\n",
    "print(texto.replace(\"a\",\"\"))"
   ]
  },
  {
   "cell_type": "markdown",
   "metadata": {
    "id": "JWP8PMp0VT1y"
   },
   "source": [
    "![ejercicio.png](./img/ejercicio.png)\n",
    "\n",
    "## Ejercicio 3\n",
    "1. Crea una lista con 3 elementos numéricos\n",
    "2. Añade un cuarto elemento\n",
    "3. Calcula la suma de todos\n",
    "4. Elimina el segundo elemento de la lista\n",
    "5. Añade otro elemento en la posicion 3 de la lista\n",
    "6. Crea otra lista con 4 elementos y concaténala a la que ya tenías.\n",
    "7. Ordena la lista de menor a mayor.\n",
    "8. BONUS: Ordena la lista de mayor a menor.  \n",
    "(*PISTA: Para hacer 8, tendrás que buscar en la información del método...*)  \n",
    "  \n",
    "  \n",
    "NOTA: Pinta por pantalla el resultado de cada paso."
   ]
  },
  {
   "cell_type": "code",
   "execution_count": 4,
   "metadata": {
    "id": "Q7VsaLQ-VT1z",
    "outputId": "d1804ca8-e3ad-4b31-838b-2ff1dae7f3b3"
   },
   "outputs": [
    {
     "name": "stdout",
     "output_type": "stream",
     "text": [
      "Lista inicial: [10, 5, 8]\n",
      "Lista después de añadir un cuarto elemento: [10, 5, 8, 15]\n",
      "Suma de todos los elementos: 38\n",
      "Lista tras eliminar el segundo elemento: [10, 8, 15]\n",
      "Lista tras añadir un elemento en la posición 3: [10, 8, 20, 15]\n",
      "Lista tras concatenar otra lista: [10, 8, 20, 15, 7, 2, 11, 3]\n",
      "Lista ordenada de menor a mayor: [2, 3, 7, 8, 10, 11, 15, 20]\n",
      "Lista ordenada de mayor a menor: [20, 15, 11, 10, 8, 7, 3, 2]\n"
     ]
    }
   ],
   "source": [
    "# lista\n",
    "lista = [10, 5, 8]\n",
    "print(\"Lista inicial:\", lista)\n",
    "\n",
    "# añadir elemento\n",
    "lista.append(15)\n",
    "print(\"Lista después de añadir un cuarto elemento:\", lista)\n",
    "\n",
    "# Calcular la suma de todos\n",
    "suma = sum(lista)\n",
    "print(\"Suma de todos los elementos:\", suma)\n",
    "\n",
    "#  eliminar el segundo elemento. Se cuenta desde 0\n",
    "lista.pop(1)\n",
    "print(\"Lista tras eliminar el segundo elemento:\", lista)\n",
    "\n",
    "# Añadir elemento en la posición 3. Se cuenta desde 0\n",
    "lista.insert(2, 20)\n",
    "print(\"Lista tras añadir un elemento en la posición 3:\", lista)\n",
    "\n",
    "# concatenar lista\n",
    "otra_lista = [7, 2, 11, 3]\n",
    "lista.extend(otra_lista)\n",
    "print(\"Lista tras concatenar otra lista:\", lista)\n",
    "\n",
    "# ordenar\n",
    "lista.sort()\n",
    "print(\"Lista ordenada de menor a mayor:\", lista)\n",
    "\n",
    "# ordenar reverse\n",
    "lista.sort(reverse=True)\n",
    "print(\"Lista ordenada de mayor a menor:\", lista)\n"
   ]
  }
 ],
 "metadata": {
  "colab": {
   "provenance": []
  },
  "kernelspec": {
   "display_name": "Python 3 (ipykernel)",
   "language": "python",
   "name": "python3"
  },
  "language_info": {
   "codemirror_mode": {
    "name": "ipython",
    "version": 3
   },
   "file_extension": ".py",
   "mimetype": "text/x-python",
   "name": "python",
   "nbconvert_exporter": "python",
   "pygments_lexer": "ipython3",
   "version": "3.13.7"
  }
 },
 "nbformat": 4,
 "nbformat_minor": 4
}
