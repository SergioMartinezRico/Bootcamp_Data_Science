{
 "cells": [
  {
   "cell_type": "markdown",
   "metadata": {
    "id": "9l3HMgm6RWxF"
   },
   "source": [
    "![TheBridge_logo_RGB_color.jpg](attachment:TheBridge_logo_RGB_color.jpg)"
   ]
  },
  {
   "cell_type": "markdown",
   "metadata": {
    "id": "RGg9iWpoRWxG"
   },
   "source": [
    "![ejercicios.png](attachment:ejercicios.png)"
   ]
  },
  {
   "cell_type": "markdown",
   "metadata": {
    "id": "AyOlWS2nRWxH"
   },
   "source": [
    "## PRACTICA OBLIGATORIA: COLECCIONES Y FUNCIONES"
   ]
  },
  {
   "cell_type": "markdown",
   "metadata": {
    "id": "6UOgb0KVRWxH"
   },
   "source": [
    "* La práctica obligatoria de esta unidad consiste varios ejercicios de programación libre a completar sobre Colecciones y Funciones. Descarga este notebook en tu ordenador y trabaja en local.  \n",
    "* Recuerda que debes subirla a tu repositorio personal antes de la sesión en vivo para que puntúe adecuadamente y puedas participar en dicha sesión.  \n",
    "* Recuerda también que no es necesario que esté perfecta, sólo es necesario que se vea el esfuerzo.\n",
    "* Esta práctica se resolverá en la sesión en vivo correspondiente y la solución se publicará en el repo del curso."
   ]
  },
  {
   "cell_type": "markdown",
   "metadata": {
    "id": "j3yu-tEjRWxH"
   },
   "source": [
    "### Contenidos"
   ]
  },
  {
   "cell_type": "markdown",
   "metadata": {
    "id": "kO-fLH39RWxH"
   },
   "source": [
    "## Ejercicio 1\n",
    "Eleva todos los elementos de la lista al cuadrado\n",
    "> ```ejer_2 = [1,2,3,4,5]```"
   ]
  },
  {
   "cell_type": "code",
   "execution_count": 1,
   "metadata": {
    "id": "ks5l3yi7RWxH"
   },
   "outputs": [
    {
     "name": "stdout",
     "output_type": "stream",
     "text": [
      "1\n",
      "4\n",
      "9\n",
      "16\n",
      "25\n"
     ]
    }
   ],
   "source": [
    "ejer_2 = [1,2,3,4,5]\n",
    "for elem in ejer_2:\n",
    "    cuadrado = elem ** 2\n",
    "    print (cuadrado)\n",
    "    "
   ]
  },
  {
   "cell_type": "code",
   "execution_count": null,
   "metadata": {},
   "outputs": [],
   "source": []
  },
  {
   "cell_type": "markdown",
   "metadata": {
    "id": "kI_Xr5oFRWxI"
   },
   "source": [
    "## Ejercicio 2\n",
    "Haz un programa que detecte todos los duplicados de un elemento en una lista:\n",
    "* Utiliza una variable duplicado para asignarle el valor del elemento del que queremos encontrar todos sus duplicados.\n",
    "* El programa debe devolver todos los índices de los elementos duplicados.\n",
    "* Aplícalo para encontrar los duplicados de \"un\", \"es\" y \"binario\" de:  \n",
    "\n",
    ">```ejer_3 = [\"Un\", \"árbol\", \"binario\", \"es\", \"una\", \"estructura\", \"de\", \"un\", \"tipo\", \"particular\", \"a\", \"veces\", \"no\", \"es\", \"ni\", \"binario\"]```\n"
   ]
  },
  {
   "cell_type": "code",
   "execution_count": 10,
   "metadata": {
    "id": "cLY9WB7YRWxI"
   },
   "outputs": [
    {
     "name": "stdout",
     "output_type": "stream",
     "text": [
      "[0, 7]\n",
      "[3, 13]\n",
      "[2, 15]\n"
     ]
    }
   ],
   "source": [
    "ejer_3 = [\"Un\", \"árbol\", \"binario\", \"es\", \"una\", \"estructura\", \"de\", \"un\", \"tipo\", \"particular\", \"a\", \"veces\", \"no\", \"es\", \"ni\", \"binario\"]\n",
    "def buscar_duplicados(lista, duplicado):\n",
    "#pasar a min por si hay palabras escritas en mayusculas y minusculas\n",
    "    lista_minusculas = [] #init lista\n",
    "    for elemento in lista: #recorremos lista para hacer minusculas \n",
    "        lista_minusculas.append(elemento.lower()) #añadimos a lista minusculas\n",
    "\n",
    "#buscar los índices en lista minusculas\n",
    "    indices = [] #init lista\n",
    "    for i in range(len(lista_minusculas)): #recorrer los indices\n",
    "        if lista_minusculas[i] == duplicado.lower():\n",
    "            indices.append(i) #añadir el indice no la palabra OJO\n",
    "\n",
    "    #devuleve lista índices\n",
    "    return indices\n",
    "\n",
    "print(buscar_duplicados(ejer_3, \"un\"))\n",
    "print(buscar_duplicados(ejer_3, \"es\"))\n",
    "print(buscar_duplicados(ejer_3, \"binario\"))\n",
    "\n",
    "    \n",
    "        \n",
    "    "
   ]
  },
  {
   "cell_type": "markdown",
   "metadata": {
    "id": "3WrBd5QaRWxI"
   },
   "source": [
    "## Ejercicio 3\n",
    "1. ¿Cuántas veces se repite el 3 en la siguiente tupla?\n",
    "2. Crea una tupla nueva con los elementos desde la posicion 5 a la 10.\n",
    "3. ¿Cuántos elementos tiene la tupla `ejer_3`?\n",
    "> ```ejer_9 = (3, 20, 3, 47, 19, 3, 29, 45, 67, 78, 90, 3, 3, 5, 2, 4, 7, 9, 4, 2, 4, 3, 3, 4, 6, 7)```"
   ]
  },
  {
   "cell_type": "code",
   "execution_count": 15,
   "metadata": {
    "id": "bkv_R5LYRWxI"
   },
   "outputs": [
    {
     "name": "stdout",
     "output_type": "stream",
     "text": [
      "El numero 3 se repite 7 veces\n"
     ]
    }
   ],
   "source": [
    "ejer_9 = (3, 20, 3, 47, 19, 3, 29, 45, 67, 78, 90, 3, 3, 5, 2, 4, 7, 9, 4, 2, 4, 3, 3, 4, 6, 7)\n",
    "numero = 3\n",
    "repeticiones = 0\n",
    "for i in range(len(ejer_9)):\n",
    "    if ejer_9[i]==numero:\n",
    "        repeticiones = repeticiones + 1\n",
    "    else:\n",
    "        repeticiones = repeticiones\n",
    "print(\"El numero\", numero, \"se repite\", repeticiones, \"veces\")"
   ]
  },
  {
   "cell_type": "markdown",
   "metadata": {
    "id": "6g8Y54AeRWxI"
   },
   "source": [
    "## Ejercicio 4\n",
    "Comprueba si el numero 60 esta en la tupla del ejercicio 3"
   ]
  },
  {
   "cell_type": "code",
   "execution_count": 18,
   "metadata": {
    "id": "F8VTEZonRWxI"
   },
   "outputs": [
    {
     "name": "stdout",
     "output_type": "stream",
     "text": [
      "El numero 60 no aparece en la tupla\n"
     ]
    }
   ],
   "source": [
    "numero = 60\n",
    "repeticiones = False\n",
    "for i in range(len(ejer_9)):\n",
    "    if ejer_9[i]==numero:\n",
    "        repeticiones = True\n",
    "\n",
    "if repeticiones == True:\n",
    "    print (\"El numero\", numero, \"si que aparece en la tupla\")\n",
    "else:\n",
    "    print (\"El numero\", numero, \"no aparece en la tupla\")"
   ]
  },
  {
   "cell_type": "code",
   "execution_count": null,
   "metadata": {},
   "outputs": [],
   "source": []
  },
  {
   "cell_type": "markdown",
   "metadata": {
    "id": "y0fg-ZA6RWxI"
   },
   "source": [
    "## Ejercicio 5\n",
    "1. Convierte la tupla del ejercicio 3 en una lista\n",
    "2. Convierte la tupla del ejercicio 3 en un set\n",
    "3. Convierte la tupla del ejercicio 3 en un diccionario. Usa también los indices"
   ]
  },
  {
   "cell_type": "code",
   "execution_count": 25,
   "metadata": {
    "id": "_O5hXr01RWxI"
   },
   "outputs": [
    {
     "name": "stdout",
     "output_type": "stream",
     "text": [
      "[3, 20, 3, 47, 19, 3, 29, 45, 67, 78, 90, 3, 3, 5, 2, 4, 7, 9, 4, 2, 4, 3, 3, 4, 6, 7]\n",
      "{2, 3, 67, 5, 4, 7, 6, 9, 45, 78, 47, 19, 20, 90, 29}\n",
      "{'numeros': (3, 20, 3, 47, 19, 3, 29, 45, 67, 78, 90, 3, 3, 5, 2, 4, 7, 9, 4, 2, 4, 3, 3, 4, 6, 7)}\n"
     ]
    }
   ],
   "source": [
    "tupla_lista = list(ejer_9)\n",
    "print(tupla_lista)\n",
    "tupla_set = set(ejer_9)\n",
    "print(tupla_set)\n",
    "tupla_dict = {\"numeros\" : ejer_9 }\n",
    "print(tupla_dict)"
   ]
  },
  {
   "cell_type": "markdown",
   "metadata": {
    "id": "eOdWWbxvRWxJ"
   },
   "source": [
    "## Ejercicio 6\n",
    "Multiplica todos los valores del diccionario\n",
    "> ```ejer_6 = {1: 11, 2: 22, 3: 33, 4: 44, 5: 55}```"
   ]
  },
  {
   "cell_type": "code",
   "execution_count": 26,
   "metadata": {
    "id": "KcuByovKRWxJ"
   },
   "outputs": [
    {
     "name": "stdout",
     "output_type": "stream",
     "text": [
      "19326120\n"
     ]
    }
   ],
   "source": [
    "ejer_6 = {1: 11, 2: 22, 3: 33, 4: 44, 5: 55}\n",
    "resultado = 1\n",
    "for valor in ejer_6.values():\n",
    "    resultado = resultado * valor\n",
    "print(resultado)"
   ]
  },
  {
   "cell_type": "code",
   "execution_count": null,
   "metadata": {},
   "outputs": [],
   "source": []
  },
  {
   "cell_type": "markdown",
   "metadata": {
    "id": "W7TUSaKRRWxJ"
   },
   "source": [
    "## Ejercicio 7\n",
    "\n",
    "1. Crea un diccionario que describa un libro, con los siguientes campos o claves: \"titulo\",\"autor\",\"idioma original\",\"año de publicación\".\n",
    "2. Crea un a lista, llamada librería.\n",
    "3. Añade cuatro libros a tu elección a la librería."
   ]
  },
  {
   "cell_type": "code",
   "execution_count": 27,
   "metadata": {
    "id": "d-IMRvxRRWxJ",
    "vscode": {
     "languageId": "plaintext"
    }
   },
   "outputs": [
    {
     "name": "stdout",
     "output_type": "stream",
     "text": [
      "[{'Titulo': 'Don Quijote', 'Autor': 'Miguel de Cervantes', 'Idioma original': 'Castellano', 'Año de publicación': 1605}, {'Titulo': 'Cien años de soledad', 'Autor': 'Gabriel Garcia Marquez', 'Idioma original': 'Castellano', 'Año de publicación': 1967}, {'Titulo': '1984', 'Autor': 'George Orwell', 'Idioma original': 'Inglés', 'Año de publicación': 1949}, {'Titulo': 'Orgullo y prejuicio', 'Autor': 'Jane Austen', 'Idioma original': 'Inglés', 'Año de publicación': 1813}]\n"
     ]
    }
   ],
   "source": [
    "libro_1 = {\"Titulo\":\"Don Quijote\", \n",
    "           \"Autor\":\"Miguel de Cervantes\", \n",
    "           \"Idioma original\":\"Castellano\", \n",
    "           \"Año de publicación\":1605}\n",
    "libreria = []\n",
    "libro_2 = {\"Titulo\":\"Cien años de soledad\", \n",
    "           \"Autor\":\"Gabriel Garcia Marquez\", \n",
    "           \"Idioma original\":\"Castellano\", \n",
    "           \"Año de publicación\":1967}\n",
    "libro_3 = {\"Titulo\":\"1984\", \n",
    "           \"Autor\":\"George Orwell\", \n",
    "           \"Idioma original\":\"Inglés\", \n",
    "           \"Año de publicación\":1949}\n",
    "libro_4 = {\"Titulo\":\"Orgullo y prejuicio\", \n",
    "           \"Autor\":\"Jane Austen\", \n",
    "           \"Idioma original\":\"Inglés\", \n",
    "           \"Año de publicación\":1813}\n",
    "\n",
    "libreria.append(libro_1)\n",
    "libreria.append(libro_2)\n",
    "libreria.append(libro_3)\n",
    "libreria.append(libro_4)\n",
    "print(libreria)"
   ]
  },
  {
   "cell_type": "markdown",
   "metadata": {
    "id": "glMoedjYRWxJ"
   },
   "source": [
    "## Ejercicio 8\n",
    "Modifica los valores del idioma de todos los libros del ejercicio anterior para que sea \"esperanto\"\n"
   ]
  },
  {
   "cell_type": "code",
   "execution_count": 32,
   "metadata": {
    "id": "veNdC-uwRWxJ"
   },
   "outputs": [
    {
     "name": "stdout",
     "output_type": "stream",
     "text": [
      "[{'Titulo': 'Don Quijote', 'Autor': 'Miguel de Cervantes', 'Idioma original': 'Esperanto', 'Año de publicación': 1605}, {'Titulo': 'Cien años de soledad', 'Autor': 'Gabriel Garcia Marquez', 'Idioma original': 'Esperanto', 'Año de publicación': 1967}, {'Titulo': '1984', 'Autor': 'George Orwell', 'Idioma original': 'Esperanto', 'Año de publicación': 1949}, {'Titulo': 'Orgullo y prejuicio', 'Autor': 'Jane Austen', 'Idioma original': 'Esperanto', 'Año de publicación': 1813}]\n"
     ]
    }
   ],
   "source": [
    "for libro in libreria:\n",
    "    libro[\"Idioma original\"]=\"Esperanto\"\n",
    "print(libreria)"
   ]
  },
  {
   "cell_type": "code",
   "execution_count": null,
   "metadata": {},
   "outputs": [],
   "source": []
  },
  {
   "cell_type": "markdown",
   "metadata": {
    "id": "DRCJG04KRWxJ"
   },
   "source": [
    "## Ejercicio 9\n",
    "1. Escribe un programa que dada una variable titulo busque los libros que hay en la librería con ese título. Si no se encuentra debe devolver el mensaje `Ese no lo tengo, ¿mola?`\n",
    "2. Pruena que el programa con uno de tus libros y con otro que no contenga tu librería."
   ]
  },
  {
   "cell_type": "code",
   "execution_count": 36,
   "metadata": {
    "id": "eWHdJi9BRWxJ"
   },
   "outputs": [
    {
     "name": "stdout",
     "output_type": "stream",
     "text": [
      "Tengo el libro 1984 en mi biblioteca\n",
      "Ese no lo tengo, ¿mola?\n"
     ]
    }
   ],
   "source": [
    "def encontrar_libro(titulo, lista):\n",
    "    coincidencia = False\n",
    "    for libro in lista:\n",
    "        if libro[\"Titulo\"] == titulo:\n",
    "            coincidencia = True\n",
    "        \n",
    "    if coincidencia == True:\n",
    "        print(\"Tengo el libro\", titulo, \"en mi biblioteca\")\n",
    "    else:\n",
    "        print(\"Ese no lo tengo, ¿mola?\")\n",
    "\n",
    "encontrar_libro(\"1984\", libreria)\n",
    "encontrar_libro(\"La celestina\", libreria)"
   ]
  },
  {
   "cell_type": "code",
   "execution_count": null,
   "metadata": {},
   "outputs": [],
   "source": []
  },
  {
   "cell_type": "code",
   "execution_count": null,
   "metadata": {},
   "outputs": [],
   "source": []
  },
  {
   "cell_type": "code",
   "execution_count": null,
   "metadata": {},
   "outputs": [],
   "source": []
  },
  {
   "cell_type": "code",
   "execution_count": null,
   "metadata": {},
   "outputs": [],
   "source": []
  },
  {
   "cell_type": "markdown",
   "metadata": {
    "id": "17YOpYuFRWxJ"
   },
   "source": [
    "## Ejercicio 10\n",
    "Convierte el programa del ejercicio 2 en una función al que se le pase el valor a buscar como un argumento posicional"
   ]
  },
  {
   "cell_type": "markdown",
   "metadata": {
    "id": "xbj0LgvnRWxJ"
   },
   "source": [
    "Ya estaba planteado asi"
   ]
  },
  {
   "cell_type": "markdown",
   "metadata": {
    "id": "xZ-sWJxPRWxJ"
   },
   "source": [
    "## Ejercicio 11\n",
    "Convierte el programa del ejercicio 9 en una función al que se le pasen como argumentos la librería, posicional, y el título, argumento keyword con valor \"ninguno\", por defecto."
   ]
  },
  {
   "cell_type": "code",
   "execution_count": 37,
   "metadata": {
    "id": "4-JrsMdNRWxK"
   },
   "outputs": [
    {
     "name": "stdout",
     "output_type": "stream",
     "text": [
      "Tengo el libro 1984 en mi biblioteca\n",
      "Ese no lo tengo, ¿mola?\n"
     ]
    }
   ],
   "source": [
    "def encontrar_libro(lista, titulo=None):\n",
    "    coincidencia = False\n",
    "    for libro in lista:\n",
    "        if libro[\"Titulo\"] == titulo:\n",
    "            coincidencia = True\n",
    "        \n",
    "    if coincidencia == True:\n",
    "        print(\"Tengo el libro\", titulo, \"en mi biblioteca\")\n",
    "    else:\n",
    "        print(\"Ese no lo tengo, ¿mola?\")\n",
    "\n",
    "encontrar_libro(libreria, \"1984\")\n",
    "encontrar_libro(libreria, \"La celestina\")"
   ]
  },
  {
   "cell_type": "code",
   "execution_count": null,
   "metadata": {},
   "outputs": [],
   "source": []
  },
  {
   "cell_type": "markdown",
   "metadata": {
    "id": "FtJir95QRWxK"
   },
   "source": [
    "## Ejercicio 12\n",
    "Solicitar al usuario que ingrese su dirección email. Imprimir un mensaje indicando si la dirección es válida o no, valiéndose de una función para decidirlo. Una dirección se considerará válida si contiene el símbolo \"@\"."
   ]
  },
  {
   "cell_type": "code",
   "execution_count": 41,
   "metadata": {
    "id": "sk852IZ8RWxK"
   },
   "outputs": [
    {
     "name": "stdin",
     "output_type": "stream",
     "text": [
      "Introduce una dirección de correo electronico asasdasdasd\n"
     ]
    },
    {
     "name": "stdout",
     "output_type": "stream",
     "text": [
      "La dirección de correo asasdasdasd no es valida\n"
     ]
    }
   ],
   "source": [
    "def validacion_mail(correo):\n",
    "    valido = False\n",
    "    for caracter in correo:\n",
    "        if caracter == \"@\":\n",
    "            valido = True\n",
    "    if valido == True:\n",
    "        print(\"La dirección de correo\", correo, \"es valida\")\n",
    "    else:\n",
    "        print(\"La dirección de correo\", correo, \"no es valida\")\n",
    "\n",
    "mail = input(\"Introduce una dirección de correo electronico\")\n",
    "validacion_mail(mail)\n"
   ]
  },
  {
   "cell_type": "markdown",
   "metadata": {
    "id": "Kw1MWBwBRWxK"
   },
   "source": [
    "## Ejercicio 13\n",
    "Escribe una función que compruebe si un DNI es válido, devolviendo `True` en caso afirmativo.  \n",
    "En primer lugar, el DNI debe tener entre 7 y 8 dígitos numéricos.  \n",
    "Para saber si la letra del DNI es correcta puedes utilizar el siguiente fragmento de código:\n",
    ">```Python\n",
    ">DNI= 55555555\n",
    ">palabra='TRWAGMYFPDXBNJZSQVHLCKE'\n",
    ">print('La letra del DNI es: ', palabra[DNI%23])\n",
    ">````\n"
   ]
  },
  {
   "cell_type": "code",
   "execution_count": 53,
   "metadata": {},
   "outputs": [
    {
     "name": "stdout",
     "output_type": "stream",
     "text": [
      "El DNI es valido\n"
     ]
    }
   ],
   "source": [
    "def comprobar_dni(codigo,letra):\n",
    "    if len(str(codigo))<7 or len(str(codigo))>8:\n",
    "        print(\"Error: el codigo debe ser de 7 u 8 digitos\")\n",
    "    else:\n",
    "        palabra = \"TRWAGMYFPDXBNJZSQVHLCKE\"\n",
    "        indice = codigo % 23\n",
    "        #print(indice)\n",
    "        if letra != palabra[indice]:\n",
    "            print(\"Error:La letra del DNI es: \", palabra[indice])  \n",
    "        else:\n",
    "            print(\"El DNI es valido\")\n",
    "comprobar_dni(25466170,\"H\")\n",
    "\n",
    "     "
   ]
  }
 ],
 "metadata": {
  "colab": {
   "provenance": []
  },
  "kernelspec": {
   "display_name": "Python 3 (ipykernel)",
   "language": "python",
   "name": "python3"
  },
  "language_info": {
   "codemirror_mode": {
    "name": "ipython",
    "version": 3
   },
   "file_extension": ".py",
   "mimetype": "text/x-python",
   "name": "python",
   "nbconvert_exporter": "python",
   "pygments_lexer": "ipython3",
   "version": "3.13.7"
  }
 },
 "nbformat": 4,
 "nbformat_minor": 4
}
